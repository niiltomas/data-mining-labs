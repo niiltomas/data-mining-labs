{
 "cells": [
  {
   "cell_type": "markdown",
   "metadata": {},
   "source": [
    "# Practice Session 04: Basket analysis"
   ]
  },
  {
   "cell_type": "markdown",
   "metadata": {},
   "source": [
    "Author: <font color=\"blue\">Nil Tomàs Plans</font>\n",
    "\n",
    "E-mail: <font color=\"blue\">nil.tomas01@estudiant.upf.edu</font>\n",
    "\n",
    "Date: <font color=\"blue\">15/10/2024</font>"
   ]
  },
  {
   "cell_type": "code",
   "execution_count": 1,
   "metadata": {},
   "outputs": [],
   "source": [
    "\n",
    "import numpy as np  \n",
    "import matplotlib.pyplot as plt  \n",
    "import pandas as pd  \n",
    "import csv\n",
    "import gzip\n",
    "\n",
    "from apyori import apriori"
   ]
  },
  {
   "cell_type": "markdown",
   "metadata": {},
   "source": [
    "# 1. Playing with apyori"
   ]
  },
  {
   "cell_type": "code",
   "execution_count": 2,
   "metadata": {},
   "outputs": [],
   "source": [
    "# LEAVE AS-IS\n",
    "\n",
    "def print_apyori_output (association_results, info=False, info_key=False):\n",
    "    for relation_record in association_results:\n",
    "        itemset = list(relation_record.items)\n",
    "        \n",
    "        # Consider only itemsets of two elements\n",
    "        if len(itemset) > 1: \n",
    "        \n",
    "            print(\"Rules involving itemset %s\" % itemset)\n",
    "            support = relation_record.support\n",
    "\n",
    "            for rules in relation_record.ordered_statistics:\n",
    "                antecedent = list(rules.items_base)\n",
    "                consequent = list(rules.items_add)\n",
    "                \n",
    "                if info_key:\n",
    "                    antecedent = [info.loc[x][info_key] for x in antecedent]\n",
    "                    consequent = [info.loc[x][info_key] for x in consequent]\n",
    "                \n",
    "                confidence = rules.confidence\n",
    "                lift = rules.lift\n",
    "\n",
    "                print(\"%s => %s (support=%.4f, confidence=%.2f, lift=%.2f)\" %\n",
    "                      (antecedent, consequent, support, confidence, lift))\n",
    "            print()"
   ]
  },
  {
   "cell_type": "markdown",
   "metadata": {},
   "source": [
    "<font size=\"+1\" color=\"red\">Replace this cell with your own example of transactions (at least 20 transactions). Execute the apriori algorithm, in which you should obtain at least <strong>two</strong> rules of the form ['A', 'B'] => ['C'], i.e., at least two rules having a 2-itemset in the antecedent and a 1-itemset in the consequent. Modify the transactions until you obtain such rules.</font>"
   ]
  },
  {
   "cell_type": "code",
   "execution_count": 3,
   "metadata": {},
   "outputs": [
    {
     "name": "stdout",
     "output_type": "stream",
     "text": [
      "Rules involving itemset ['sun_glasses', 'road_bike', 'helmet']\n",
      "['road_bike', 'helmet'] => ['sun_glasses'] (support=0.1500, confidence=1.00, lift=2.86)\n",
      "\n",
      "Rules involving itemset ['sun_glasses', 'water_bottle', 'helmet']\n",
      "['water_bottle', 'helmet'] => ['sun_glasses'] (support=0.2000, confidence=1.00, lift=2.86)\n",
      "['sun_glasses', 'water_bottle'] => ['helmet'] (support=0.2000, confidence=1.00, lift=1.67)\n",
      "\n"
     ]
    }
   ],
   "source": [
    "\n",
    "\n",
    "transactions_bike_shop = [\n",
    "    [\"road_bike\", \"sun_glasses\", \"culotte\", \"helmet\", \"maillot\"],\n",
    "    [\"road_bike\", \"sun_glasses\", \"energy_bars\", \"helmet\", \"shoes\"],\n",
    "    [\"road_bike\", \"sun_glasses\", \"maillot\", \"shoes\"],\n",
    "    [\"road_bike\", \"sun_glasses\", \"energy_bars\", \"helmet\", \"water_bottle\"],#\n",
    "    [\"road_bike\", \"potentiometer\", \"rain_jacket\", \"socks\", \"sweater\"],\n",
    "    [\"road_bike\", \"GPS\", \"socks\", \"sweater\"],\n",
    "    \n",
    "    [\"btt_bike\", \"gloves\", \"helmet\"],\n",
    "    [\"btt_bike\", \"energy_drink\", \"gloves\", \"water_bottle\"],\n",
    "    [\"btt_bike\", \"sun_glasses\", \"gloves\", \"helmet\", \"water_bottle\"],#\n",
    "    [\"btt_bike\", \"culotte\", \"energy_bars\", \"GPS\", \"maillot\"],\n",
    "    [\"btt_bike\", \"energy_drink\", \"helmet\", \"socks\"],\n",
    "    [\"btt_bike\", \"sun_glasses\", \"GPS\", \"helmet\", \"rain_jacket\", \"water_bottle\"],#\n",
    "    [\"btt_bike\", \"gloves\", \"GPS\", \"helmet\", \"potentiometer\"],\n",
    "    [\"btt_bike\",  \"energy_drink\", \"helmet\", \"rain_jacket\", \"socks\"],\n",
    "    [\"btt_bike\", \"rain_jacket\", \"socks\"],    \n",
    "    \n",
    "    [ \"GPS\", \"helmet\", \"potentiometer\"],\n",
    "    [ \"sun_glasses\", \"helmet\", \"water_bottle\"],#\n",
    "    [ \"gloves\", \"maillot\", \"shoes\", \"socks\"],\n",
    "    [ \"energy_drink\", \"maillot\", \"socks\"],\n",
    "    [ \"energy_drink\", \"gloves\", \"helmet\", \"potentiometer\"],\n",
    "    \n",
    "]\n",
    "\n",
    "#(1) Exercice of the following task\n",
    "results = list(apriori(transactions_bike_shop, min_support=0.15, min_confidence=0.9, min_lift=1.0))\n",
    "print_apyori_output(results)"
   ]
  },
  {
   "cell_type": "markdown",
   "metadata": {},
   "source": [
    "<font size=\"+1\" color=\"red\">Replace this cell with a markdown cell containing (1) a printout of the rules you have obtained, and (2) for each of those rules, indicate clearly how the support, confidence, and lift is calculated. Do not merely repeat the formula: indicate how each number is computed based on the transactions you provided, as if you were trying to verify that the numbers are correct.</font>"
   ]
  },
  {
   "cell_type": "markdown",
   "metadata": {},
   "source": [
    "<font size=\"+1\" color=\"blue\">(1) printed above\n",
    "    (2) For each rule:\n",
    "    **(2.1)['helmet', 'road_bike'] => ['sun_glasses']\n",
    "    (2.2)['helmet', 'water_bottle'] => ['sun_glasses']\n",
    "    (2.3)['water_bottle', 'sun_glasses'] => ['helmet']**\n",
    "    \n",
    "    In (2.1) the sup( ['helmet', 'road_bike'] ) is the #transactions [helmet, road_bike] (3)  divided by the total number of transactions (20). So, sup(['helmet', 'sun_glasses'])=3/20 =0.15\n",
    "    \n",
    "    The confidence is #transactions containing ['helmet', 'road_bike', 'sun_glasses'] (3) divided by the #transactions of ['helmet', 'road_bike'] (3). So, conf(['helmet', 'road_bike'] => ['sun_glasses'])=3/3=1\n",
    "    The lift is the confidence of ['helmet', 'road_bike'] => ['sun_glasses']  (1) divided by support of ['sun_glasses'] \n",
    "    So, we have: lift(['helmet', 'road_bike'] => ['sun_glasses'])=1/sup(['sun_glasses'])=1/(7/20)=1/0.35=2.857\n",
    "    \n",
    "    \n",
    "    \n",
    "    \n",
    "    Now for (2.2) **['helmet', 'water_bottle'] => ['sun_glasses']**\n",
    "    the sup(['helmet', 'water_bottle']) is the #transactions ['helmet', 'water_bottle'] (4)  divided by the total number of transactions (20). So, sup(['helmet', 'water_bottle'])=4/20 =0.2\n",
    "    \n",
    "     The confidence is #transactions containing ['helmet', 'sun_glasses', 'water_bottle'] (4) divided by the #transactions of ['helmet', 'water_bottle'] (4). So, conf(['helmet', 'water_bottle'] => ['sun_glasses'])=4/4=1\n",
    "    \n",
    "    So, we have: lift(['helmet', 'water_bottle'] => ['sun_glasses'])=conf(['helmet', 'water_bottle'] => ['sun_glasses'])/sup(['sun_glasses'])=1/(7/20)=1/0.35=2.857\n",
    "    \n",
    "    \n",
    "        Now for (2.3) **['water_bottle', 'sun_glasses'] => ['helmet']**\n",
    "    the sup(['water_bottle', 'sun_glasses'] ) is the #transactions ['water_bottle', 'sun_glasses'] (4)  divided by the total number of transactions (20). So, sup(['water_bottle', 'sun_glasses'])=4/20 =0.2\n",
    "    \n",
    "     The confidence is #transactions containing ['helmet', 'sun_glasses', 'water_bottle'] (4) divided by the #transactions of ['water_bottle', 'sun_glasses'] (4). So, conf(['water_bottle', 'sun_glasses'] => ['helmet'])=4/4=1\n",
    "    \n",
    "    So, we have: lift(['water_bottle', 'sun_glasses'] => ['helmet'])=conf(['water_bottle', 'sun_glasses'] => ['helmet'])/sup(['helmet'])=1/(12/20)=1/0.6=1.67\n",
    "    \n",
    "    \n",
    "    After all, I've verified that the results is correct\n",
    "    \n",
    "   </font>"
   ]
  },
  {
   "cell_type": "markdown",
   "metadata": {},
   "source": [
    "# 2. Load and prepare the shopping baskets"
   ]
  },
  {
   "cell_type": "code",
   "execution_count": 4,
   "metadata": {},
   "outputs": [
    {
     "data": {
      "text/html": [
       "<div>\n",
       "<style scoped>\n",
       "    .dataframe tbody tr th:only-of-type {\n",
       "        vertical-align: middle;\n",
       "    }\n",
       "\n",
       "    .dataframe tbody tr th {\n",
       "        vertical-align: top;\n",
       "    }\n",
       "\n",
       "    .dataframe thead th {\n",
       "        text-align: right;\n",
       "    }\n",
       "</style>\n",
       "<table border=\"1\" class=\"dataframe\">\n",
       "  <thead>\n",
       "    <tr style=\"text-align: right;\">\n",
       "      <th></th>\n",
       "      <th>product_name</th>\n",
       "      <th>department_id</th>\n",
       "    </tr>\n",
       "    <tr>\n",
       "      <th>product_id</th>\n",
       "      <th></th>\n",
       "      <th></th>\n",
       "    </tr>\n",
       "  </thead>\n",
       "  <tbody>\n",
       "    <tr>\n",
       "      <th>1</th>\n",
       "      <td>Chocolate Sandwich Cookies</td>\n",
       "      <td>19</td>\n",
       "    </tr>\n",
       "    <tr>\n",
       "      <th>2</th>\n",
       "      <td>All-Seasons Salt</td>\n",
       "      <td>13</td>\n",
       "    </tr>\n",
       "    <tr>\n",
       "      <th>3</th>\n",
       "      <td>Robust Golden Unsweetened Oolong Tea</td>\n",
       "      <td>7</td>\n",
       "    </tr>\n",
       "    <tr>\n",
       "      <th>4</th>\n",
       "      <td>Smart Ones Classic Favorites Mini Rigatoni Wit...</td>\n",
       "      <td>1</td>\n",
       "    </tr>\n",
       "    <tr>\n",
       "      <th>5</th>\n",
       "      <td>Green Chile Anytime Sauce</td>\n",
       "      <td>13</td>\n",
       "    </tr>\n",
       "    <tr>\n",
       "      <th>...</th>\n",
       "      <td>...</td>\n",
       "      <td>...</td>\n",
       "    </tr>\n",
       "    <tr>\n",
       "      <th>96</th>\n",
       "      <td>Sprinklez Confetti Fun Organic Toppings</td>\n",
       "      <td>13</td>\n",
       "    </tr>\n",
       "    <tr>\n",
       "      <th>97</th>\n",
       "      <td>Organic Chamomile Lemon Tea</td>\n",
       "      <td>7</td>\n",
       "    </tr>\n",
       "    <tr>\n",
       "      <th>98</th>\n",
       "      <td>2% Yellow American Cheese</td>\n",
       "      <td>16</td>\n",
       "    </tr>\n",
       "    <tr>\n",
       "      <th>99</th>\n",
       "      <td>Local Living Butter Lettuce</td>\n",
       "      <td>4</td>\n",
       "    </tr>\n",
       "    <tr>\n",
       "      <th>100</th>\n",
       "      <td>Peanut Butter &amp; Strawberry Jam Sandwich</td>\n",
       "      <td>1</td>\n",
       "    </tr>\n",
       "  </tbody>\n",
       "</table>\n",
       "<p>100 rows × 2 columns</p>\n",
       "</div>"
      ],
      "text/plain": [
       "                                                 product_name  department_id\n",
       "product_id                                                                  \n",
       "1                                  Chocolate Sandwich Cookies             19\n",
       "2                                            All-Seasons Salt             13\n",
       "3                        Robust Golden Unsweetened Oolong Tea              7\n",
       "4           Smart Ones Classic Favorites Mini Rigatoni Wit...              1\n",
       "5                                   Green Chile Anytime Sauce             13\n",
       "...                                                       ...            ...\n",
       "96                    Sprinklez Confetti Fun Organic Toppings             13\n",
       "97                                Organic Chamomile Lemon Tea              7\n",
       "98                                  2% Yellow American Cheese             16\n",
       "99                                Local Living Butter Lettuce              4\n",
       "100                   Peanut Butter & Strawberry Jam Sandwich              1\n",
       "\n",
       "[100 rows x 2 columns]"
      ]
     },
     "execution_count": 4,
     "metadata": {},
     "output_type": "execute_result"
    }
   ],
   "source": [
    "# LEAVE AS-IS\n",
    "\n",
    "# File names\n",
    "INPUT_PRODUCTS = \"instacart-products.csv\"\n",
    "INPUT_TRANSACTIONS = \"instacart-transactions.csv.gz\"\n",
    "\n",
    "# Read into a dataframe\n",
    "products = pd.read_csv(INPUT_PRODUCTS, delimiter=\",\")\n",
    "\n",
    "# Set product_id as index, and drop column aisle_id\n",
    "products = products.set_index('product_id').drop(columns=['aisle_id'])\n",
    "\n",
    "products.head(100)"
   ]
  },
  {
   "cell_type": "markdown",
   "metadata": {},
   "source": [
    "## 2.1. Select by department"
   ]
  },
  {
   "cell_type": "code",
   "execution_count": 5,
   "metadata": {},
   "outputs": [],
   "source": [
    "# LEAVE AS-IS\n",
    "\n",
    "DEPT_BAKERY = 3\n",
    "DEPT_VEGGIES = 4\n",
    "DEPT_ALCOHOL = 5\n",
    "DEPT_WORLD = 6\n",
    "DEPT_DRINKS = 7\n",
    "DEPT_PETS = 8\n",
    "DEPT_PHARMACY = 11\n",
    "DEPT_CLEANING = 17\n",
    "DEPT_BABIES = 18"
   ]
  },
  {
   "cell_type": "markdown",
   "metadata": {},
   "source": [
    "<font size=\"+1\" color=\"red\">Replace this cell with your code for *select_from_departments*.</font>"
   ]
  },
  {
   "cell_type": "code",
   "execution_count": 6,
   "metadata": {},
   "outputs": [],
   "source": [
    "#code for select_from_departments.\n",
    "def select_from_departments(df,product_ids,department_ids):\n",
    "    \n",
    "    list_products_id=[]#definition of the list I'll return\n",
    "    for product in product_ids:\n",
    "        if df.loc[product].department_id in department_ids:#if the department_id of a product is in department_ids\n",
    "            list_products_id.append(product)   #then we add this product to the list that we'll have to return\n",
    "    \n",
    "    return list_products_id\n",
    "    "
   ]
  },
  {
   "cell_type": "markdown",
   "metadata": {},
   "source": [
    "<font size=\"+1\" color=\"red\">Replace this cell with code to test your function with three different test cases. Each test case is a list of items and a list of 1, 2, or 3 departments.</font>"
   ]
  },
  {
   "cell_type": "code",
   "execution_count": 7,
   "metadata": {},
   "outputs": [],
   "source": [
    "def testing(tc,department):#create the a funciton to avoid repeating code\n",
    "    test_case=[]\n",
    "    test_case=tc #copy the array to test_case\n",
    "    print(\"Test case:\")#print the test case\n",
    "    print(test_case)\n",
    "\n",
    "    print(\"\\nInput products:\")#print the input products as the model\n",
    "    for product_id in test_case:\n",
    "        print(f\"{product_id} {products.loc[product_id].product_name} (dept {products.loc[product_id].department_id})\")\n",
    "\n",
    "\n",
    "    print(\"\\nSelected products:\")#print the products in which the department of the product coincides with the department\n",
    "    selected_products=[]\n",
    "    selected_products=select_from_departments(products,test_case,department)\n",
    "    for i in selected_products:\n",
    "        print(f\"{i} {products.loc[i].product_name} (dept {products.loc[i].department_id})\")\n"
   ]
  },
  {
   "cell_type": "code",
   "execution_count": 8,
   "metadata": {},
   "outputs": [
    {
     "name": "stdout",
     "output_type": "stream",
     "text": [
      "\n",
      "Test case:\n",
      "[22, 26, 45, 54, 57, 71, 111, 1120]\n",
      "\n",
      "Input products:\n",
      "22 Fresh Breath Oral Rinse Mild Mint (dept 11)\n",
      "26 Fancy Feast Trout Feast Flaked Wet Cat Food (dept 8)\n",
      "45 European Cucumber (dept 4)\n",
      "54 24/7 Performance Cat Litter (dept 8)\n",
      "57 Flat Toothpicks (dept 17)\n",
      "71 Ultra 7 Inch Polypropylene Traditional Plates (dept 17)\n",
      "111 Fabric Softener, Geranium Scent (dept 17)\n",
      "1120 All American Flame Grilled Veggie Burgers (dept 1)\n",
      "\n",
      "Selected products:\n",
      "57 Flat Toothpicks (dept 17)\n",
      "71 Ultra 7 Inch Polypropylene Traditional Plates (dept 17)\n",
      "111 Fabric Softener, Geranium Scent (dept 17)\n",
      "\n",
      "Test case:\n",
      "[1, 2, 3, 4, 5, 6, 7, 8, 9, 10, 11, 12]\n",
      "\n",
      "Input products:\n",
      "1 Chocolate Sandwich Cookies (dept 19)\n",
      "2 All-Seasons Salt (dept 13)\n",
      "3 Robust Golden Unsweetened Oolong Tea (dept 7)\n",
      "4 Smart Ones Classic Favorites Mini Rigatoni With Vodka Cream Sauce (dept 1)\n",
      "5 Green Chile Anytime Sauce (dept 13)\n",
      "6 Dry Nose Oil (dept 11)\n",
      "7 Pure Coconut Water With Orange (dept 7)\n",
      "8 Cut Russet Potatoes Steam N' Mash (dept 1)\n",
      "9 Light Strawberry Blueberry Yogurt (dept 16)\n",
      "10 Sparkling Orange Juice & Prickly Pear Beverage (dept 7)\n",
      "11 Peach Mango Juice (dept 7)\n",
      "12 Chocolate Fudge Layer Cake (dept 1)\n",
      "\n",
      "Selected products:\n",
      "1 Chocolate Sandwich Cookies (dept 19)\n",
      "6 Dry Nose Oil (dept 11)\n",
      "\n",
      "Test case:\n",
      "[13, 14, 15, 16, 17, 18, 19, 20, 21, 2200, 23, 24]\n",
      "\n",
      "Input products:\n",
      "13 Saline Nasal Mist (dept 11)\n",
      "14 Fresh Scent Dishwasher Cleaner (dept 17)\n",
      "15 Overnight Diapers Size 6 (dept 18)\n",
      "16 Mint Chocolate Flavored Syrup (dept 19)\n",
      "17 Rendered Duck Fat (dept 12)\n",
      "18 Pizza for One Suprema  Frozen Pizza (dept 1)\n",
      "19 Gluten Free Quinoa Three Cheese & Mushroom Blend (dept 9)\n",
      "20 Pomegranate Cranberry & Aloe Vera Enrich Drink (dept 7)\n",
      "21 Small & Medium Dental Dog Treats (dept 8)\n",
      "2200 Grape Licorice Twists (dept 19)\n",
      "23 Organic Turkey Burgers (dept 12)\n",
      "24 Tri-Vi-Sol® Vitamins A-C-and D Supplement Drops for Infants (dept 11)\n",
      "\n",
      "Selected products:\n",
      "16 Mint Chocolate Flavored Syrup (dept 19)\n",
      "17 Rendered Duck Fat (dept 12)\n",
      "18 Pizza for One Suprema  Frozen Pizza (dept 1)\n",
      "2200 Grape Licorice Twists (dept 19)\n",
      "23 Organic Turkey Burgers (dept 12)\n"
     ]
    }
   ],
   "source": [
    "test_case=[[22, 26, 45, 54, 57, 71, 111, 1120],\n",
    "           [1,2,3,4,5,6,7,8,9,10,11,12],\n",
    "           [13,14,15,16,17,18,19,20,21,2200,23,24],\n",
    "          ]\n",
    "departments=[[17],[11,19],[1,12,19]]\n",
    "for i in range(3):\n",
    "    print()\n",
    "    testing(test_case[i],departments[i])"
   ]
  },
  {
   "cell_type": "markdown",
   "metadata": {},
   "source": [
    "## 2.2. Read and filter transactions"
   ]
  },
  {
   "cell_type": "markdown",
   "metadata": {},
   "source": [
    "<font size=\"+1\" color=\"red\">Replace this cell with your code to read transactions, keeping only items in DEPT_PHARMACY. Remember to stop after storing 5000 of the transactions read.</font>"
   ]
  },
  {
   "cell_type": "code",
   "execution_count": 9,
   "metadata": {},
   "outputs": [],
   "source": [
    "#code to read transactions, keeping only items in DEPT_PHARMACY. Remember to stop after storing 5000 of the transactions read.\n",
    "\n",
    "\n",
    "\n",
    "def TRANSACTIONS(department): #I created this function that generalizes the code to get the transactions of a department\n",
    "    #because in the last exercice, they ask to do the same but for other departments. So I thought that I would define it here above and I can already start simplifying code\n",
    "    transactions=[]\n",
    "    with gzip.open(INPUT_TRANSACTIONS, \"rt\") as inputfile:\n",
    "\n",
    "        # Create a CSV reader\n",
    "        reader = csv.reader(inputfile, delimiter=\",\")\n",
    "\n",
    "\n",
    "        count=0#count the transactions stored\n",
    "        # Iterate through the CSV fil\n",
    "\n",
    "        for row in reader:\n",
    "            if count==5000:\n",
    "                print(\"break\")\n",
    "                break\n",
    "\n",
    "            # Convert to integers\n",
    "            items = [int(x) for x in row]\n",
    "            if isinstance(department, int):\n",
    "                department = [department]\n",
    "            dept_items=select_from_departments(products,items,department)\n",
    "            \n",
    "            #item_check=0\n",
    "            #for item in items:#we check if there's any item in items that its department is the pharmacy\n",
    "             #   if products.loc[item,\"department_id\"]==departament:\n",
    "              #      item_check=1\n",
    "            if dept_items:#if there's any item of pharmacy in the row (items)\n",
    "                transactions.append(dept_items)#then we append the items into the array transactions\n",
    "                count += 1\n",
    "                if (count>0  and  count% 1000 == 0):\n",
    "                    print(f\"transactions read: {reader.line_num}, transactions stored: {count}\")\n",
    "    \n",
    "    return transactions\n"
   ]
  },
  {
   "cell_type": "code",
   "execution_count": 10,
   "metadata": {},
   "outputs": [
    {
     "name": "stdout",
     "output_type": "stream",
     "text": [
      "transactions read: 9620, transactions stored: 1000\n",
      "transactions read: 19479, transactions stored: 2000\n",
      "transactions read: 29003, transactions stored: 3000\n",
      "transactions read: 38755, transactions stored: 4000\n",
      "transactions read: 48881, transactions stored: 5000\n",
      "break\n"
     ]
    }
   ],
   "source": [
    "#code to read transactions, keeping only items in DEPT_PHARMACY. Remember to stop after storing 5000 of the transactions read.\n",
    "transaction=[]\n",
    "transaction=TRANSACTIONS(DEPT_PHARMACY)\n"
   ]
  },
  {
   "cell_type": "markdown",
   "metadata": {},
   "source": [
    "## 2.3. Extract association rules and comment on them"
   ]
  },
  {
   "cell_type": "markdown",
   "metadata": {},
   "source": [
    "<font size=\"+1\" color=\"red\">Replace this cell with your code to extract association rules from the read transactions.</font>"
   ]
  },
  {
   "cell_type": "code",
   "execution_count": 11,
   "metadata": {},
   "outputs": [
    {
     "name": "stdout",
     "output_type": "stream",
     "text": [
      "Rules for DEPT_PHARMACY\n",
      "Rules involving itemset [16825, 1406]\n",
      "['Vegan Nutritional Shake Sweet Vanilla Bean'] => ['Vegan Smooth Chocolate Nutritional Shake'] (support=0.0012, confidence=0.40, lift=80.00)\n",
      "['Vegan Smooth Chocolate Nutritional Shake'] => ['Vegan Nutritional Shake Sweet Vanilla Bean'] (support=0.0012, confidence=0.24, lift=80.00)\n",
      "\n",
      "Rules involving itemset [7976, 16019]\n",
      "['One Plant-Based Chocolate Flavor Nutritional Shake Drink Mix'] => ['All-In-One French Vanilla Nutritional Shake Sachet'] (support=0.0010, confidence=0.31, lift=97.66)\n",
      "['All-In-One French Vanilla Nutritional Shake Sachet'] => ['One Plant-Based Chocolate Flavor Nutritional Shake Drink Mix'] (support=0.0010, confidence=0.31, lift=97.66)\n",
      "\n",
      "Rules involving itemset [27544, 39162]\n",
      "['Lemon Verbena Hand Soap'] => ['Clean Day Basil Hand Soap'] (support=0.0018, confidence=0.12, lift=11.21)\n",
      "['Clean Day Basil Hand Soap'] => ['Lemon Verbena Hand Soap'] (support=0.0018, confidence=0.16, lift=11.21)\n",
      "\n"
     ]
    }
   ],
   "source": [
    "def function_print_rules(minsup,minconf,minlift,transactions):\n",
    "    results = list(apriori(transactions, min_support=minsup, min_confidence=minconf, min_lift=minlift))\n",
    "    print_apyori_output(results, products, 'product_name')\n",
    "\n",
    "#I've created this function with the same purpose as the function above on transactions, because below we are asked to repeat code\n",
    "#code to extract association rules from the read transactions.\n",
    "#I define the attributes\n",
    "minsup=0.001\n",
    "minconf=0.1\n",
    "minlift=1\n",
    "#Rules for DEPT_BAKERY\n",
    "print(\"Rules for DEPT_PHARMACY\")\n",
    "function_print_rules(minsup,minconf,minlift,transaction)"
   ]
  },
  {
   "cell_type": "markdown",
   "metadata": {},
   "source": [
    "<font size=\"+1\" color=\"red\">Replace this cell with a brief commentary on what you would recommend to the shopping app considering the extracted association rules.</font>"
   ]
  },
  {
   "cell_type": "markdown",
   "metadata": {},
   "source": [
    "<font size=\"+1\" color=\"blue\">After printing and analysing the extracted association rules, I would recommend to the shopping app the following: \n",
    "    \n",
    "    Usually, nutritional products are bought together. That means that if a customer buys an nutritional product such as 'Vegan Nutritional Shake', it is very likely that will buy also other products similar to it.\n",
    "    \n",
    "    Another point to consider, Nutritional Shakes are usually bought together with other shakes, as well as Soaps with other soaps.    \n",
    "    That means that if a customer buys any of those products, I would recommend to the application that it shows also the products that are related, as it is very likely, that the customer has also in mind to buy some of those.\n",
    "</font>"
   ]
  },
  {
   "cell_type": "markdown",
   "metadata": {},
   "source": [
    "## 2.4. Extract association rules and comment on them (other departments)"
   ]
  },
  {
   "cell_type": "markdown",
   "metadata": {},
   "source": [
    "<font size=\"+1\" color=\"red\">Replace this cell with code to select a different set of departments (at least two, not DEPT_PHARMACY) and extract transactions again. Avoid replicating code when possible.</font>"
   ]
  },
  {
   "cell_type": "code",
   "execution_count": 12,
   "metadata": {},
   "outputs": [
    {
     "name": "stdout",
     "output_type": "stream",
     "text": [
      "Print transactions DEPT_BAKERY: \n",
      "transactions read: 3546, transactions stored: 1000\n",
      "transactions read: 7226, transactions stored: 2000\n",
      "transactions read: 10888, transactions stored: 3000\n",
      "transactions read: 14527, transactions stored: 4000\n",
      "transactions read: 18321, transactions stored: 5000\n",
      "break\n",
      "Print transactions DEPT_VEGGIES: \n",
      "transactions read: 1298, transactions stored: 1000\n",
      "transactions read: 2638, transactions stored: 2000\n",
      "transactions read: 3977, transactions stored: 3000\n",
      "transactions read: 5334, transactions stored: 4000\n",
      "transactions read: 6684, transactions stored: 5000\n",
      "break\n",
      "\n"
     ]
    }
   ],
   "source": [
    "#code to select a different set of departments (at least two, not DEPT_PHARMACY) and extract transactions again. \n",
    "departments_array=[DEPT_BAKERY,DEPT_VEGGIES]#I create and array to keep the departments\n",
    "\n",
    "#I create a funcion called TRANSACTIONS that generalizes the transactions of a department\n",
    "print(\"Print transactions DEPT_BAKERY: \")\n",
    "transaction1=TRANSACTIONS(departments_array[0])\n",
    "\n",
    "print(\"Print transactions DEPT_VEGGIES: \")\n",
    "transaction2=TRANSACTIONS(departments_array[1])\n",
    "print()\n",
    "\n",
    "#I define each parameter to pass it to the next function that I created, to avoid code repetition\n",
    "#Simply the function function_print_rules, prints the rules, given the input parameters of below and a transaction array\n",
    "\n",
    "\n",
    "                \n"
   ]
  },
  {
   "cell_type": "code",
   "execution_count": 13,
   "metadata": {},
   "outputs": [
    {
     "name": "stdout",
     "output_type": "stream",
     "text": [
      "Rules for DEPT_BAKERY\n",
      "Rules involving itemset [10673, 5077]\n",
      "['Original Nooks & Crannies English Muffins'] => ['100% Whole Wheat Bread'] (support=0.0018, confidence=0.10, lift=1.40)\n",
      "\n",
      "Rules involving itemset [17706, 5077]\n",
      "['Organic Whole Grain Wheat English Muffins'] => ['100% Whole Wheat Bread'] (support=0.0018, confidence=0.10, lift=1.44)\n",
      "\n",
      "Rules involving itemset [42460, 5077]\n",
      "['Plain Mini Bagels'] => ['100% Whole Wheat Bread'] (support=0.0010, confidence=0.14, lift=1.89)\n",
      "\n",
      "Rules involving itemset [46842, 5077]\n",
      "['Plain Pre-Sliced Bagels'] => ['100% Whole Wheat Bread'] (support=0.0010, confidence=0.10, lift=1.43)\n",
      "\n",
      "Rules involving itemset [5077, 48183]\n",
      "['Flour Tortillas'] => ['100% Whole Wheat Bread'] (support=0.0010, confidence=0.19, lift=2.59)\n",
      "\n",
      "Rules involving itemset [10673, 17341]\n",
      "['Presliced Everything Bagels'] => ['Original Nooks & Crannies English Muffins'] (support=0.0014, confidence=0.15, lift=8.27)\n",
      "\n",
      "Rules involving itemset [20738, 16262]\n",
      "['Everything Bagels'] => ['Plain Bagels'] (support=0.0010, confidence=0.12, lift=8.88)\n",
      "\n",
      "Rules involving itemset [20682, 17341]\n",
      "['Presliced Everything Bagels'] => ['Cinnamon Raisin Swirl Pre-Sliced Bagels'] (support=0.0012, confidence=0.13, lift=19.95)\n",
      "['Cinnamon Raisin Swirl Pre-Sliced Bagels'] => ['Presliced Everything Bagels'] (support=0.0012, confidence=0.19, lift=19.95)\n",
      "\n",
      "Rules involving itemset [46842, 17341]\n",
      "['Presliced Everything Bagels'] => ['Plain Pre-Sliced Bagels'] (support=0.0010, confidence=0.11, lift=10.86)\n",
      "['Plain Pre-Sliced Bagels'] => ['Presliced Everything Bagels'] (support=0.0010, confidence=0.10, lift=10.86)\n",
      "\n",
      "\n",
      "Rules for DEPT_VEGGIES\n",
      "Rules involving itemset [13176, 21137]\n",
      "['Bag of Organic Bananas'] => ['Organic Strawberries'] (support=0.0222, confidence=0.14, lift=1.28)\n",
      "['Organic Strawberries'] => ['Bag of Organic Bananas'] (support=0.0222, confidence=0.20, lift=1.28)\n",
      "\n",
      "Rules involving itemset [13176, 47209]\n",
      "['Bag of Organic Bananas'] => ['Organic Hass Avocado'] (support=0.0260, confidence=0.16, lift=1.84)\n",
      "['Organic Hass Avocado'] => ['Bag of Organic Bananas'] (support=0.0260, confidence=0.29, lift=1.84)\n",
      "\n",
      "Rules involving itemset [21137, 24852]\n",
      "['Organic Strawberries'] => ['Banana'] (support=0.0258, confidence=0.24, lift=1.17)\n",
      "['Banana'] => ['Organic Strawberries'] (support=0.0258, confidence=0.13, lift=1.17)\n",
      "\n",
      "Rules involving itemset [24852, 21903]\n",
      "['Organic Baby Spinach'] => ['Banana'] (support=0.0204, confidence=0.22, lift=1.10)\n",
      "['Banana'] => ['Organic Baby Spinach'] (support=0.0204, confidence=0.10, lift=1.10)\n",
      "\n",
      "Rules involving itemset [24852, 47766]\n",
      "['Banana'] => ['Organic Avocado'] (support=0.0210, confidence=0.10, lift=1.40)\n",
      "['Organic Avocado'] => ['Banana'] (support=0.0210, confidence=0.28, lift=1.40)\n",
      "\n"
     ]
    }
   ],
   "source": [
    "#continuation of the code of above\n",
    "\n",
    "minsup=0.001\n",
    "minconf=0.1\n",
    "minlift=1\n",
    "#Rules for DEPT_BAKERY\n",
    "print(\"Rules for DEPT_BAKERY\")\n",
    "function_print_rules(minsup,minconf,minlift,transaction1)\n",
    "print()\n",
    "minsup=0.02\n",
    "#Rules for DEPT_VEGGIES\n",
    "print(\"Rules for DEPT_VEGGIES\")\n",
    "function_print_rules(minsup,minconf,minlift,transaction2)"
   ]
  },
  {
   "cell_type": "markdown",
   "metadata": {},
   "source": [
    "<font size=\"+1\" color=\"red\">Replace this cell with your commentary on the obtained rules.</font>"
   ]
  },
  {
   "cell_type": "markdown",
   "metadata": {},
   "source": [
    "<font size=\"+1\" color=\"blue\">After printing and analysing the extracted association rules, I would recommend to the shopping app the following: \n",
    "    **Concerning the DEPT_BAKERY:**\n",
    "    I can observe that '100% Whole Wheat Bread' is a very common product bought in the Bakery, as for a lot of people its one of the bases of its diet.\n",
    "    As well as the '100% Whole Wheat Bread', different types of bagels are frequently bought together with other bagels\n",
    "    Then, I would recommend to the application that if any costumer buys a product in the bakery, it should recommend the '100% Whole Wheat Bread' as it is commonly bought together. Also, if a customer buys any type of bagel, then it would be appropriate to recommend it to him/her other types of bagels, as might be also interested in.\n",
    "    **Concerning the DEPT_VEGGIES:**\n",
    "    Usually, \"Organic\" products are bought together. That means that if a customer buys an organic product, it is very likely that will buy also other \"Organic\" items.\n",
    "    Another point to consider, 'Bag of Organic Bananas' are a common complement to those products bought and that are organic and \"Organic\" fruits.\n",
    "    That means that if a customer buys any of those products, such as Fruits, or Organic items I would recommend to the application that it shows also the 'Bag of Organic Bananas' and other organic product, as it is very likely, that the customer has also in mind to buy those.\n",
    "</font>"
   ]
  },
  {
   "cell_type": "markdown",
   "metadata": {},
   "source": [
    "<font size=\"+2\" color=\"#003300\">I hereby declare that, except for the code provided by the course instructors, all of my code, report, and figures were produced by myself.</font>"
   ]
  }
 ],
 "metadata": {
  "kernelspec": {
   "display_name": "Python 3 (ipykernel)",
   "language": "python",
   "name": "python3"
  },
  "language_info": {
   "codemirror_mode": {
    "name": "ipython",
    "version": 3
   },
   "file_extension": ".py",
   "mimetype": "text/x-python",
   "name": "python",
   "nbconvert_exporter": "python",
   "pygments_lexer": "ipython3",
   "version": "3.11.5"
  }
 },
 "nbformat": 4,
 "nbformat_minor": 2
}
