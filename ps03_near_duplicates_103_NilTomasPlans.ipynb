{
 "cells": [
  {
   "cell_type": "markdown",
   "metadata": {},
   "source": [
    "# Practice Session 03: Find near-duplicates using shingling"
   ]
  },
  {
   "cell_type": "markdown",
   "metadata": {},
   "source": [
    "Author: <font color=\"blue\">Nil Tomàs Plans</font>\n",
    "\n",
    "E-mail: <font color=\"blue\">nil.tomas01@estudiant.upf.edu</font>\n",
    "\n",
    "Date: <font color=\"blue\">05/10/2024</font>"
   ]
  },
  {
   "cell_type": "markdown",
   "metadata": {},
   "source": [
    "<font size=\"+2\" color=\"blue\">Additional results: various ngram sizes</font>"
   ]
  },
  {
   "cell_type": "code",
   "execution_count": 38,
   "metadata": {},
   "outputs": [],
   "source": [
    "import io\n",
    "import json\n",
    "import gzip\n",
    "import re\n",
    "import random\n",
    "import numpy as np\n",
    "import matplotlib.pyplot as plt\n",
    "from timeit import default_timer as timer\n",
    "\n",
    "import datetime"
   ]
  },
  {
   "cell_type": "code",
   "execution_count": 39,
   "metadata": {},
   "outputs": [
    {
     "name": "stdout",
     "output_type": "stream",
     "text": [
      "Read 1000 documents\n"
     ]
    }
   ],
   "source": [
    "# KEEP AS-IS\n",
    "\n",
    "# Input file\n",
    "INPUT_FILENAME = \"CovidLockdownCatalonia.json.gz\"\n",
    "\n",
    "# Array for storing messages\n",
    "messages = []\n",
    "\n",
    "# IMPORTANT:\n",
    "# 1. Set this to 1000 during development\n",
    "# 2. Set this to 10000 once you have completed the development, and answer part 5 with 10000\n",
    "# 3. Set this back to 1000 for delivering your code\n",
    "MAX_MESSAGES = 1000\n",
    "\n",
    "with gzip.open(INPUT_FILENAME, \"rt\", encoding=\"utf-8\") as input_file:\n",
    "    \n",
    "    messages_read = 0\n",
    "    for line in input_file:\n",
    "            \n",
    "        # Read message\n",
    "        tweet = json.loads(line)\n",
    "\n",
    "        # Keep only messages in Catalan\n",
    "        if tweet[\"lang\"] == \"ca\":\n",
    "            \n",
    "            messages_read += 1\n",
    "            \n",
    "            if messages_read <= MAX_MESSAGES:\n",
    "                author = tweet[\"user\"][\"screen_name\"]\n",
    "                message = tweet[\"full_text\"]\n",
    "                messages.append(message)\n",
    "\n",
    "print(\"Read %d documents\" % len(messages))"
   ]
  },
  {
   "cell_type": "markdown",
   "metadata": {},
   "source": [
    "# 1. Auxiliary functions"
   ]
  },
  {
   "cell_type": "markdown",
   "metadata": {},
   "source": [
    "<font size=\"+1\" color=\"red\">Replace this cell with your code for function \"jaccard_similarity\"</font>"
   ]
  },
  {
   "cell_type": "code",
   "execution_count": 40,
   "metadata": {},
   "outputs": [],
   "source": [
    "#code for function \"jaccard_similarity\"\n",
    "def jaccard_similarity(list1, list2):\n",
    "    set1=set(list1)\n",
    "    set2=set(list2)\n",
    "    \n",
    "    union_s1s2=set1.union(set2)\n",
    "    intersection_s1s2=set1.intersection(set2)\n",
    "    \n",
    "    if(len(union_s1s2) !=0):\n",
    "        compute=len(intersection_s1s2)/len(union_s1s2)\n",
    "    else:\n",
    "        return 0\n",
    "    return(compute)\n"
   ]
  },
  {
   "cell_type": "markdown",
   "metadata": {},
   "source": [
    "<font size=\"+1\" color=\"red\">Replace this cell with your code testing \"jaccard_similarity\"</font>"
   ]
  },
  {
   "cell_type": "code",
   "execution_count": 41,
   "metadata": {},
   "outputs": [
    {
     "name": "stdout",
     "output_type": "stream",
     "text": [
      "JS case 1:  0.5 expected: 0.5\n",
      "JS case 2:  0.75  expected: 0.75\n",
      "JS case 3:  0.0  expected: 0.0\n",
      "JS case 4:  1.0  expected: 1.0\n"
     ]
    }
   ],
   "source": [
    "#code testing \"jaccard_similarity\"\n",
    "\n",
    "array1=[1,2,3,4,5]\n",
    "array2=[1,2,1,8,5]\n",
    "jaccard_similarity_=jaccard_similarity(array1,array2)\n",
    "print(\"JS case 1: \",jaccard_similarity_,\"expected: 0.5\")\n",
    "\n",
    "array1=[2,2,3,4]\n",
    "array2=[2,3,4,5]\n",
    "jaccard_similarity_=jaccard_similarity(array1,array2)\n",
    "print(\"JS case 2: \",jaccard_similarity_,\" expected: 0.75\")\n",
    "\n",
    "array1=[1,2]\n",
    "array2=[3,4]\n",
    "jaccard_similarity_=jaccard_similarity(array1,array2)\n",
    "print(\"JS case 3: \",jaccard_similarity_,\" expected: 0.0\")\n",
    "\n",
    "array1=[3,2]\n",
    "array2=[3,2]\n",
    "jaccard_similarity_=jaccard_similarity(array1,array2)\n",
    "print(\"JS case 4: \",jaccard_similarity_,\" expected: 1.0\")\n"
   ]
  },
  {
   "cell_type": "markdown",
   "metadata": {},
   "source": [
    "<font size=\"+1\" color=\"red\">Replace this cell with your code for function \"clean\"</font>"
   ]
  },
  {
   "cell_type": "code",
   "execution_count": 42,
   "metadata": {},
   "outputs": [],
   "source": [
    "#code for function \"clean\"\n",
    "\n",
    "def clean(text):\n",
    "\n",
    "    text=re.sub(r\" RT\",\" \",text)#To search for RT prefixes, i search for a space before and after the RT, this way it will\n",
    "    #only remove prefixes, not RT inside words\n",
    "    text = re.sub(r\"^RT\\s*\", \" \", text)#delete if RT is at the beginning\n",
    " \n",
    "    #converting text to lower case\n",
    "    text=text.lower()\n",
    "    \n",
    "    #romanizing text\n",
    "    roman_letters = {\"ñ\": \"n\",\"Ñ\": \"n\",\n",
    "                    \"à\": \"a\", \"á\":\"a\",\n",
    "                    \"è\": \"e\", \"é\": \"e\",\n",
    "                    \"í\": \"i\",\n",
    "                    \"ò\": \"o\",\"ó\": \"o\",\n",
    "                    \"ú\": \"u\",\n",
    "                    \"ç\": \"c\",\"l·l\": \"ll\"}\n",
    "    \n",
    "    for i, j in roman_letters.items():\n",
    "        text=re.sub(i,j,text)\n",
    "\n",
    "    \n",
    "    # remove urls both http and https\n",
    "    text = re.sub(r\"http[s]?\\S+\", \"\", text)\n",
    "    \n",
    "    #removing spaces at the beginning and at the end\n",
    "    text=text.strip()\n",
    "    \n",
    "    #Removing anything that remains that is not a letter or digit\n",
    "    text=re.sub(r\"[^a-zA-Z0-9\\s]\",\"\",text)\n",
    "    \n",
    "    #Changing double spaces or more to single space\n",
    "    text = re.sub(r'\\s+', ' ', text)\n",
    "    \n",
    "    return text\n",
    "    "
   ]
  },
  {
   "cell_type": "code",
   "execution_count": 43,
   "metadata": {},
   "outputs": [
    {
     "name": "stdout",
     "output_type": "stream",
     "text": [
      "a vegades primerpre1fix nnaaeeiooucll i o i azaz 123456789 prefixaborrarrt o rtprefixnoborrar\n"
     ]
    }
   ],
   "source": [
    "t1=\"RT A RT vegades RTprimerpre1fix  Ññàáèéíòóúçl·l  i https://google.com o http//:.aixo_es_una_web.com  i  ?'' AZ?az 123456789 ¿? RTprefixaborrarRT o rtprefixnoborrar! \"\n",
    "\n",
    "tresult=clean(t1)\n",
    "print(tresult)"
   ]
  },
  {
   "cell_type": "markdown",
   "metadata": {},
   "source": [
    "<font size=\"+1\" color=\"red\">Replace this cell with your code testing function \"clean\"</font>"
   ]
  },
  {
   "cell_type": "markdown",
   "metadata": {},
   "source": [
    "# 2. Implement an n-gram extractor"
   ]
  },
  {
   "cell_type": "markdown",
   "metadata": {},
   "source": [
    "<font size=\"+1\" color=\"red\">Replace this cell with your code implementing function \"ngrams(text,size)\"</font>"
   ]
  },
  {
   "cell_type": "code",
   "execution_count": 44,
   "metadata": {},
   "outputs": [],
   "source": [
    "#code implementing function \"ngrams(text,size)\n",
    "\n",
    "MIN_TOKEN_LENGTH = 3#global variable that tells us the minimum length that has to have the words in order to be included in ngrams\n",
    "\n",
    "def ngrams(text, size):\n",
    "    # Clean the text and split it into tokens\n",
    "    tokens = clean(text).split()\n",
    "    ngrams = []\n",
    "\n",
    "    \n",
    "    #First of all, I filter the words that have length >= to MIN_TOKEN_LENGTH\n",
    "    #in tokens, we have all words already cleaned with the function that we did before\n",
    "    #Those that the length is below the minimum length, we do not consider them\n",
    "    valid_words=[]\n",
    "    for token in tokens:\n",
    "        if (len(token)>= MIN_TOKEN_LENGTH):\n",
    "            valid_words.append(token)\n",
    "\n",
    "    \n",
    "    # Loop to create all subsequences\n",
    "    for i in range(len(valid_words) - size + 1):\n",
    "        current_words = valid_words[i:i + size]  # we extract the words needed, depending on the \"size\" of each sequence\n",
    "        word_to_append = ' '.join(current_words)  # we need to join the current words with a space between them, \n",
    "        #otherwise, they will be separated by a comma\n",
    "        ngrams.append(word_to_append) \n",
    "        \n",
    "    return ngrams"
   ]
  },
  {
   "cell_type": "markdown",
   "metadata": {},
   "source": [
    "<font size=\"+1\" color=\"red\">Replace this cell with your code testing function \"ngrams\"</font>"
   ]
  },
  {
   "cell_type": "code",
   "execution_count": 45,
   "metadata": {},
   "outputs": [
    {
     "name": "stdout",
     "output_type": "stream",
     "text": [
      "Clam per la suspensió dels desnonaments en plena crisi pel coronavirus https://t.co/0g1AtSELwl\n",
      "['clam per suspensio', 'per suspensio dels', 'suspensio dels desnonaments', 'dels desnonaments plena', 'desnonaments plena crisi', 'plena crisi pel', 'crisi pel coronavirus']\n"
     ]
    }
   ],
   "source": [
    "#code testing function \"ngrams\"\n",
    "print(messages[990])\n",
    "print(ngrams(messages[990], 3))"
   ]
  },
  {
   "cell_type": "markdown",
   "metadata": {},
   "source": [
    "# 3. Estimation of brute force all-pairs method"
   ]
  },
  {
   "cell_type": "code",
   "execution_count": 46,
   "metadata": {},
   "outputs": [],
   "source": [
    "# LEAVE AS-IS\n",
    "\n",
    "def time_brute_force_similarities(messages, limit, ngram_size):\n",
    "    if limit > len(messages):\n",
    "        raise ValueError(\"Limit should be less than or equal than the number of messages\")\n",
    "        \n",
    "    # Start a timer\n",
    "    start = timer()\n",
    "\n",
    "    # Iterate through document identifiers\n",
    "    for docid1 in range(np.min([len(messages), limit])):\n",
    "\n",
    "        # Clean document 1 and extract ngrams\n",
    "        doc1 = clean(messages[docid1])\n",
    "        ngrams1 = ngrams(doc1, ngram_size)\n",
    "\n",
    "        # Iterate through document identifiers larger than doc2\n",
    "        for docid2 in range(docid1+1, np.min([len(messages), limit])):\n",
    "                         \n",
    "            # Clean document 2 and extract ngrams\n",
    "            doc2 = clean(messages[docid2])\n",
    "            ngrams2 = ngrams(doc2, ngram_size)\n",
    "\n",
    "            # Compute similarity\n",
    "            similarity = jaccard_similarity(ngrams1, ngrams2)\n",
    "\n",
    "    end = timer()\n",
    "    return(end - start)"
   ]
  },
  {
   "cell_type": "markdown",
   "metadata": {},
   "source": [
    "<font size=\"+1\" color=\"red\">Replace this cell with your code for generating the requested plot. Remember to add a title and label for the x and y axis.</font>"
   ]
  },
  {
   "cell_type": "code",
   "execution_count": 47,
   "metadata": {},
   "outputs": [
    {
     "data": {
      "image/png": "[encoded data removed]",
      "text/plain": [
       "<Figure size 640x480 with 1 Axes>"
      ]
     },
     "metadata": {},
     "output_type": "display_data"
    }
   ],
   "source": [
    "#code for generating the requested plot. \n",
    "#Remember to add a title and label for the x and y axis.\n",
    "\n",
    "\n",
    "stored_times = []\n",
    "message_intervals = range(1, 1001, 200)#I use the function range to increment the messages from 200 to 200\n",
    "\n",
    "for limit in message_intervals:#for each iteration, we compute the time for each interval\n",
    "    time = time_brute_force_similarities(messages, limit, ngram_size=5)\n",
    "    stored_times.append(time)\n",
    "\n",
    "#Plotting data\n",
    "plt.plot(message_intervals, stored_times,marker='o')\n",
    "plt.xlabel(\"Number of messages to check\")\n",
    "plt.ylabel(\"Time to check the messages\")\n",
    "plt.title(\"Time to compare messages vs Number of messages to check\")\n",
    "plt.grid(True)\n",
    "plt.show()"
   ]
  },
  {
   "cell_type": "markdown",
   "metadata": {},
   "source": [
    "<font size=\"+1\" color=\"red\">Replace this cell with (1) a brief commmentary about what you see in this plot, and (2) your estimate for how long it would take to run the brute force similarity computations for the entire input matrix. Express your estimation in hours, minutes, and seconds. Justify precisely your calculations.</font>"
   ]
  },
  {
   "cell_type": "markdown",
   "metadata": {},
   "source": [
    "<font size=\"+1\" color=\"blue\">(1) The plot shows the relationship between the number of messages compared and the time it takes to perform brute-force similarity computations.Additionally, I can observe that the data follows a quadriatic distribution, and each 200 messages, there's a change on the slope, due to that it's the intervals that we've defined in \"message_intervals\"</font>"
   ]
  },
  {
   "cell_type": "markdown",
   "metadata": {},
   "source": [
    "<font size=\"+1\" color=\"blue\">(2) We can see that to check 800 messages takes approximately 25 seconds. Then if the document contains 35,500 messages (as we observe on the first lines of this document). As its a brute-force function, it will do n*(n-1)/2 comparisons. \n",
    "if for n=800 does 800*799/2 =319600 comparisons, then for n=35500 it will do: 35500*(35499)/2 =630737250 comparisons. Then if for 319600 comparisons takes 25 seconds, for 630737250 will take: 25*630737250/319600 = 49338s= 13 hours and 42 minutes approximately.\n",
    "</font>"
   ]
  },
  {
   "cell_type": "markdown",
   "metadata": {},
   "source": [
    "# 4. Computing the doc-ngram matrix"
   ]
  },
  {
   "cell_type": "markdown",
   "metadata": {},
   "source": [
    "## 4.1 Create list of all ngrams"
   ]
  },
  {
   "cell_type": "markdown",
   "metadata": {},
   "source": [
    "<font size=\"+1\" color=\"red\">Replace this cell with your code for creating the ngram_to_index dictionary.</font>"
   ]
  },
  {
   "cell_type": "code",
   "execution_count": 48,
   "metadata": {},
   "outputs": [
    {
     "name": "stdout",
     "output_type": "stream",
     "text": [
      "There are 8070 distinct ngrams in the 1000 documents\n"
     ]
    }
   ],
   "source": [
    "#code for creating the ngram_to_index dictionary.\n",
    "NGRAM_SIZE = 4\n",
    "\n",
    "ngram_to_index = {}\n",
    "index_to_ngram = {}\n",
    "next_index = 0\n",
    "\n",
    "for message in messages:\n",
    "    all_ngrams = ngrams(message, NGRAM_SIZE)\n",
    "    for ngram in all_ngrams: #for each word in each sequence of all_ngrams, we search if the word is not stored in the dictionary\n",
    "        #and we add it and update the next_index\n",
    "        # YOUR CODE HERE\n",
    "        if ngram not in ngram_to_index:\n",
    "            ngram_to_index[ngram] = next_index\n",
    "            index_to_ngram[next_index] = ngram\n",
    "            next_index += 1                       \n",
    "num_distinct_ngrams = next_index\n",
    "\n",
    "print(\"There are %d distinct ngrams in the %d documents\" % (num_distinct_ngrams, len(messages)))"
   ]
  },
  {
   "cell_type": "markdown",
   "metadata": {},
   "source": [
    "<font size=\"+1\" color=\"red\">Replace this cell with your code for testing the ngram_to_index structure.</font>"
   ]
  },
  {
   "cell_type": "code",
   "execution_count": 49,
   "metadata": {},
   "outputs": [
    {
     "name": "stdout",
     "output_type": "stream",
     "text": [
      "N-gram 1: 'els restaurants han reduir', index: 14\n",
      "Check indexs: 'els restaurants han reduir'\n",
      "\n",
      "N-gram 2: 'supera fins tot mateix', index: 36\n",
      "Check indexs: 'supera fins tot mateix'\n"
     ]
    }
   ],
   "source": [
    "#code for testing the ngram_to_index structure.\n",
    "\n",
    "#definition of strings\n",
    "str1=\"els restaurants han de reduir\"\n",
    "str2=\"supera fins tot mateix\"\n",
    "\n",
    "#I pass the string through the function ngrams()\n",
    "ngrams_1 = ngrams(str1, NGRAM_SIZE)\n",
    "ngrams_2 = ngrams(str2, NGRAM_SIZE)\n",
    "#as NGRAM_SIZE=4, then it takes all the entire string\n",
    "\n",
    "\n",
    "#FIRST STRING\n",
    "for ngram in ngrams_1:\n",
    "    if ngram in ngram_to_index:#I check if n-gram exists in the dictionary\n",
    "        index = ngram_to_index[ngram]#save the index and print the results below\n",
    "        print(f\"N-gram 1: '{ngram}', index: {index}\")\n",
    "        print(f\"Check indexs: '{index_to_ngram[index]}'\")\n",
    "    else:\n",
    "        print(f\"N-gram 1: '{ngram}' not found\")\n",
    "\n",
    "print()\n",
    "\n",
    "#SECOND STRING\n",
    "for ngram in ngrams_2:\n",
    "    if ngram in ngram_to_index:\n",
    "        index = ngram_to_index[ngram]\n",
    "        print(f\"N-gram 2: '{ngram}', index: {index}\")\n",
    "        print(f\"Check indexs: '{index_to_ngram[index]}'\")\n",
    "    else:\n",
    "        print(f\"N-gram 2: '{ngram}' not found\")\n",
    "        \n"
   ]
  },
  {
   "cell_type": "markdown",
   "metadata": {},
   "source": [
    "## 4.2 Create table ngrams x documents"
   ]
  },
  {
   "cell_type": "code",
   "execution_count": 50,
   "metadata": {},
   "outputs": [
    {
     "name": "stdout",
     "output_type": "stream",
     "text": [
      "Matrix dimensions: 8070 rows (distinct shingles) x 1000 columns (distinct documents)\n"
     ]
    }
   ],
   "source": [
    "# LEAVE AS-IS\n",
    "\n",
    "# Create dense matrix in which every cell contains the value \"False\"\n",
    "M_ngram_doc = np.full((num_distinct_ngrams, len(messages)), False)\n",
    "\n",
    "# Print the number of rows and columns of this matrix\n",
    "# numpy.matrix.shape is a tuple, shape[0] is the number of rows, shape[1] the number of columns\n",
    "print(\"Matrix dimensions: %d rows (distinct shingles) x %d columns (distinct documents)\" % M_ngram_doc.shape)"
   ]
  },
  {
   "cell_type": "markdown",
   "metadata": {},
   "source": [
    "<font size=\"+1\" color=\"red\">Replace this cell with your code for filling the M_ngram_doc matrix.</font>"
   ]
  },
  {
   "cell_type": "code",
   "execution_count": 51,
   "metadata": {},
   "outputs": [],
   "source": [
    "for docid in range(len(messages)):\n",
    "    message = messages[docid]\n",
    "    all_ngrams = ngrams(message, NGRAM_SIZE)\n",
    "    for ngram in all_ngrams:\n",
    "        if ngram in ngram_to_index:  # First we should check if the ngram exists in the dictionary\n",
    "            ngram_idx = ngram_to_index[ngram]#we get the index idx\n",
    "            M_ngram_doc[ngram_idx][docid] = True #and update the M_ngram_doc matrix of the corresponding cell \n",
    "            #where ngram_idxx is the row and docid the column\n"
   ]
  },
  {
   "cell_type": "markdown",
   "metadata": {},
   "source": [
    "<font size=\"+1\" color=\"red\">Replace this cell with your code for printing the density of the M_ngram_doc matrix as a percentage. Use 4 decimals.</font>"
   ]
  },
  {
   "cell_type": "code",
   "execution_count": 52,
   "metadata": {},
   "outputs": [
    {
     "name": "stdout",
     "output_type": "stream",
     "text": [
      "Density of 0's of M_ngram_doc  matrix: 0.1395%\n"
     ]
    }
   ],
   "source": [
    "#code for printing the density of the M_ngram_doc matrix as a percentage. Use 4 decimals.\n",
    "count_0 = np.sum(M_ngram_doc)#count number of 0's\n",
    "\n",
    "total_cells = M_ngram_doc.shape[0] * M_ngram_doc.shape[1]\n",
    "\n",
    "# we compute the density as a percentage\n",
    "density= (count_0 / total_cells) * 100\n",
    "\n",
    "# show the density as percentage with 4 decimals \n",
    "print(f\"Density of 0's of M_ngram_doc  matrix: {density:.4f}%\")"
   ]
  },
  {
   "cell_type": "markdown",
   "metadata": {},
   "source": [
    "<font size=\"+1\" color=\"red\">Replace this cell with your code for printing rows 9602 and 941 of the M_ngram_doc matrix.</font>"
   ]
  },
  {
   "cell_type": "code",
   "execution_count": 53,
   "metadata": {},
   "outputs": [
    {
     "name": "stdout",
     "output_type": "stream",
     "text": [
      "Positions of non-zeros in column of docid 962 of M_ngram_doc\n",
      "Clean message:\n",
      "el coronavirus tambe ensenya el cami independencia socialisme pasos catalans\n",
      "Non-zeros in corresponding row:\n",
      "['7873 (coronavirus tambe ensenya cami)', '7874 (tambe ensenya cami independencia)', '7875 (ensenya cami independencia socialisme)', '7876 (cami independencia socialisme pasos)', '7877 (independencia socialisme pasos catalans)']\n",
      "\n",
      "Positions of non-zeros in column of docid 941 of M_ngram_doc\n",
      "Clean message:\n",
      "hospiolot usem de forma responsable els recursos sanitaris 061 urgencies per coronavirus i sanitaries 012 consultes general\n",
      "Non-zeros in corresponding row:\n",
      "['1065 (usem forma responsable els)', '1066 (forma responsable els recursos)', '1067 (responsable els recursos sanitaris)', '1068 (els recursos sanitaris 061)', '1069 (recursos sanitaris 061 urgencies)', '1070 (sanitaris 061 urgencies per)', '1071 (061 urgencies per coronavirus)', '1072 (urgencies per coronavirus sanitaries)', '1073 (per coronavirus sanitaries 012)', '1074 (coronavirus sanitaries 012 consultes)', '7796 (hospiolot usem forma responsable)', '7797 (sanitaries 012 consultes general)']\n",
      "\n"
     ]
    }
   ],
   "source": [
    "#code for printing columns 962 and 941 of the M_ngram_doc matrix.\n",
    "\n",
    "\n",
    "# documents to check\n",
    "docids = [962, 941]\n",
    "\n",
    "# Iterate for each column (document)\n",
    "for docid in docids:\n",
    "    print(f\"Positions of non-zeros in column of docid {docid} of M_ngram_doc\")\n",
    "    \n",
    "    # I get the message, I clean it with the function done initially and print it\n",
    "    message = messages[docid]\n",
    "    \n",
    "    cleaned_message = clean(message)\n",
    "    print(\"Clean message:\")\n",
    "    print(cleaned_message)\n",
    "    \n",
    "    # getting the non-zero entries \n",
    "    non_zero_indices = np.where(M_ngram_doc[:, docid])[0]\n",
    "    #adding the ngrams to the array to print it later\n",
    "    nozero_ngrams=[]\n",
    "    for index in non_zero_indices:\n",
    "        nozero_ngrams.append(f\"{index} ({index_to_ngram[index]})\")\n",
    "    \n",
    "    \n",
    "    print(\"Non-zeros in corresponding row:\")\n",
    "    print(nozero_ngrams)\n",
    "    print() \n",
    "\n",
    "    #I've checked the code for column 16, as the example and it prints the same results"
   ]
  },
  {
   "cell_type": "markdown",
   "metadata": {},
   "source": [
    "# 5. Implement a permutation generator"
   ]
  },
  {
   "cell_type": "markdown",
   "metadata": {},
   "source": [
    "<font size=\"+1\" color=\"red\">Replace this cell with your code for \"random_permutation\"</font>"
   ]
  },
  {
   "cell_type": "code",
   "execution_count": 54,
   "metadata": {},
   "outputs": [],
   "source": [
    "#code for \"random_permutation\"\n",
    "def random_permutation(k):\n",
    "    llista=list(range(k))\n",
    "    random.shuffle(llista)\n",
    "    return llista\n"
   ]
  },
  {
   "cell_type": "code",
   "execution_count": 55,
   "metadata": {},
   "outputs": [
    {
     "name": "stdout",
     "output_type": "stream",
     "text": [
      "Test one permutation:\n",
      "['3 (test3)', '2 (test2)', '4 (test4)', '1 (test1)', '5 (test5)']\n",
      "['3 (beta)', '2 (gamma)', '4 (delta)', '1 (alpha)', '5 (epsilon)']\n",
      "\n",
      "Test another permutation\n",
      "['3 (test3)', '2 (test2)', '1 (test1)', '4 (test4)', '5 (test5)']\n",
      "['3 (beta)', '2 (gamma)', '1 (alpha)', '4 (delta)', '5 (epsilon)']\n"
     ]
    }
   ],
   "source": [
    "# LEAVE AS-IS\n",
    "\n",
    "# Permute a list according to a permutation\n",
    "def permuter(original_list, permutation):\n",
    "    permuted_list = []\n",
    "    for index in permutation:\n",
    "        permuted_list.append(original_list[index])\n",
    "    return permuted_list\n",
    "\n",
    "# Code for testing permutations\n",
    "original_list_1 = [\"1 (test1)\", \"2 (test2)\", \"3 (test3)\", \"4 (test4)\", \"5 (test5)\"]\n",
    "original_list_2 = [\"1 (alpha)\", \"2 (gamma)\", \"3 (beta)\", \"4 (delta)\", \"5 (epsilon)\"]\n",
    "\n",
    "print(\"Test one permutation:\")\n",
    "permutation_1 = random_permutation(5)\n",
    "print(permuter(original_list_1, permutation_1))\n",
    "print(permuter(original_list_2, permutation_1))\n",
    "\n",
    "print()\n",
    "\n",
    "print(\"Test another permutation\")\n",
    "permutation_2 = random_permutation(5)\n",
    "print(permuter(original_list_1, permutation_2))\n",
    "print(permuter(original_list_2, permutation_2))"
   ]
  },
  {
   "cell_type": "markdown",
   "metadata": {},
   "source": [
    "# 6. Compute the signature of each document"
   ]
  },
  {
   "cell_type": "code",
   "execution_count": 56,
   "metadata": {},
   "outputs": [
    {
     "name": "stdout",
     "output_type": "stream",
     "text": [
      "Permutation 0: 2102, 3418, 390, 5275, ...\n",
      "Permutation 1: 5957, 6816, 4470, 3817, ...\n",
      "Permutation 2: 5152, 3030, 6392, 6630, ...\n",
      "Permutation 3: 6788, 6746, 2142, 2565, ...\n",
      "Permutation 4: 4309, 5717, 2673, 270, ...\n"
     ]
    }
   ],
   "source": [
    "# Leave this code as-is\n",
    "\n",
    "NUM_PERMUTATIONS = 5\n",
    "\n",
    "permutations = []\n",
    "\n",
    "# Create the permutations\n",
    "for i in range(NUM_PERMUTATIONS):\n",
    "    permutation = random_permutation(num_distinct_ngrams)\n",
    "    permutations.append(random_permutation(num_distinct_ngrams))\n",
    "    \n",
    "# Visualize the permutations by printing their first 4 elements\n",
    "for i in range(len(permutations)):\n",
    "    permutation = permutations[i]\n",
    "    print(\"Permutation %d: %d, %d, %d, %d, ...\" % (i,\n",
    "                permutation[0], permutation[1], permutation[2], permutation[3] ))"
   ]
  },
  {
   "cell_type": "code",
   "execution_count": 57,
   "metadata": {},
   "outputs": [],
   "source": [
    "# LEAVE AS-IS\n",
    "\n",
    "# Find the first ngram in a document, according to a permutation\n",
    "def find_first_one(docid, permutation):\n",
    "    for shingle_id in permutation:\n",
    "        if M_ngram_doc[shingle_id, docid] == True:\n",
    "            return shingle_id\n",
    "    return -1"
   ]
  },
  {
   "cell_type": "markdown",
   "metadata": {},
   "source": [
    "<font size=\"+1\" color=\"red\">Replace this cell with your code for creating M_signature_doc</font>"
   ]
  },
  {
   "cell_type": "code",
   "execution_count": 58,
   "metadata": {},
   "outputs": [
    {
     "name": "stdout",
     "output_type": "stream",
     "text": [
      "Creating signatures for permutation 1/5\n",
      "- Scanning document 0 of 1000\n",
      "Creating signatures for permutation 2/5\n",
      "- Scanning document 0 of 1000\n",
      "Creating signatures for permutation 3/5\n",
      "- Scanning document 0 of 1000\n",
      "Creating signatures for permutation 4/5\n",
      "- Scanning document 0 of 1000\n",
      "Creating signatures for permutation 5/5\n",
      "- Scanning document 0 of 1000\n"
     ]
    }
   ],
   "source": [
    "M_signature_doc = np.full((NUM_PERMUTATIONS, len(messages)), np.nan)\n",
    "\n",
    "# Create permutations\n",
    "for permutation_num in range(NUM_PERMUTATIONS):\n",
    "    print(\"Creating signatures for permutation %d/%d\" % (permutation_num+1, NUM_PERMUTATIONS))\n",
    "    permutation = permutations[permutation_num]\n",
    "    \n",
    "    for docid in range(len(messages)):\n",
    "        if docid % 1000 == 0:\n",
    "            print(\"- Scanning document %d of %d\" % (docid, len(messages)))\n",
    "        #first we find the first ngram in a column according to a permutation\n",
    "        find_first_ngram = find_first_one(docid, permutation)\n",
    "        # and we update the matrix M_sgnature_doc that we've defined previously with NaN values\n",
    "        M_signature_doc[permutation_num, docid] = find_first_ngram\n"
   ]
  },
  {
   "cell_type": "code",
   "execution_count": 59,
   "metadata": {},
   "outputs": [
    {
     "name": "stdout",
     "output_type": "stream",
     "text": [
      "Document #21\n",
      "Message       : El problema és económic... ja no és només que primi lo económic a lo personal, és que fins i tot en això el @govern s'equivoca, doncs al final la factura que s'haurà de pagar serà més gran.... ja és més gran del que hauria sigut de fer les coses bé i a temps. https://t.co/jFXHAMZHO0\n",
      "Clean message : el problema es economic ja no es nomes que primi lo economic a lo personal es que fins i tot en aixo el govern sequivoca doncs al final la factura que shaura de pagar sera mes gran ja es mes gran del que hauria sigut de fer les coses be i a temps\n",
      "Ngrams        : [231, 232, 233, 234, 235, 236, 237, 238, 239, 240, 241, 242, 243, 244, 245, 246, 247, 248, 249, 250, 251, 252, 253, 254, 255, 256, 257, 258, 259]\n",
      "Signature     : [231.0, 253.0, 246.0, 254.0, 233.0]\n",
      "\n",
      "Document #24\n",
      "Message       : RT @QuimTorraiPla: Seguiu les recomanacions: eviteu qualsevol desplaçament al màxim\n",
      "Clean message : quimtorraipla seguiu les recomanacions eviteu qualsevol desplacament al maxim\n",
      "Ngrams        : [279, 280, 281, 282, 283]\n",
      "Signature     : [279.0, 281.0, 281.0, 281.0, 280.0]\n"
     ]
    }
   ],
   "source": [
    "# Leave this code as-is\n",
    "\n",
    "def extract_ngrams(docid):\n",
    "    return [x for x in range(num_distinct_ngrams) if M_ngram_doc[x, docid] == True]\n",
    "\n",
    "def extract_signature(docid):\n",
    "    return [M_signature_doc[x, docid] for x in range(NUM_PERMUTATIONS)]\n",
    "\n",
    "def print_sig(messages, M_ngram_doc, M_signature_doc, i):\n",
    "    print(\"Document #%d\" % i)\n",
    "    print(\"Message       : %s\" % messages[i])\n",
    "    print(\"Clean message : %s\" % clean(messages[i]))\n",
    "    print(\"Ngrams        : %s\" % extract_ngrams(i))\n",
    "    print(\"Signature     : %s\" % extract_signature(i))\n",
    "\n",
    "# Print two messages and their signatures\n",
    "\n",
    "print_sig(messages, M_ngram_doc, M_signature_doc, 21 )\n",
    "print()\n",
    "print_sig(messages, M_ngram_doc, M_signature_doc, 24 )"
   ]
  },
  {
   "cell_type": "markdown",
   "metadata": {},
   "source": [
    "# 5. Compare all pairs of signatures"
   ]
  },
  {
   "cell_type": "markdown",
   "metadata": {},
   "source": [
    "<font size=\"+1\" color=\"red\">Replace this cell with your code for comparing all signatures; print all documents that have at least X signature matches, considering both full matches and partial matches. X should be 0.5% of the  number of documents.</font>"
   ]
  },
  {
   "cell_type": "code",
   "execution_count": 60,
   "metadata": {},
   "outputs": [
    {
     "name": "stdout",
     "output_type": "stream",
     "text": [
      "0/1000 documents scanned\n",
      "Document 2 has 5 full matches and 0 partial matches.\n",
      "Document 16 has 6 full matches and 0 partial matches.\n",
      "Document 22 has 7 full matches and 0 partial matches.\n",
      "Document 32 has 7 full matches and 4 partial matches.\n",
      "Document 42 has 2 full matches and 6 partial matches.\n",
      "Document 53 has 5 full matches and 0 partial matches.\n",
      "Document 83 has 15 full matches and 0 partial matches.\n",
      "Document 95 has 9 full matches and 0 partial matches.\n",
      "Document 104 has 7 full matches and 0 partial matches.\n",
      "Document 166 has 13 full matches and 0 partial matches.\n",
      "Document 175 has 6 full matches and 0 partial matches.\n",
      "Document 212 has 5 full matches and 0 partial matches.\n",
      "Document 222 has 5 full matches and 0 partial matches.\n",
      "Document 249 has 8 full matches and 0 partial matches.\n",
      "Document 276 has 4 full matches and 1 partial matches.\n",
      "Document 328 has 7 full matches and 0 partial matches.\n",
      "Document 385 has 7 full matches and 2 partial matches.\n",
      "500/1000 documents scanned\n"
     ]
    }
   ],
   "source": [
    "#code for comparing all signatures; print all documents \n",
    "#that have at least X signature matches,considering both full matches \n",
    "#and partial matches. X should be 0.5% of the number of documents.\n",
    "\n",
    "\n",
    "is_possible_duplicate = {}\n",
    "threshold=0.005*len(messages)#DEFINITION OF THRESHOLD ACCORDING TO THE 5%\n",
    "\n",
    "# Iterate through all documents\n",
    "for docid1 in range(len(messages)):\n",
    "\n",
    "     # Do not examine again a document that is a possible duplicate\n",
    "    if docid1 not in is_possible_duplicate:\n",
    "\n",
    "        # Counters for full and partial signature matches\n",
    "        count_sig_full_matches = 0\n",
    "        count_sig_partial_matches = 0\n",
    "\n",
    "        # Extract the signature of the doc1\n",
    "        signature1 = extract_signature(docid1)\n",
    "      \n",
    "        if docid1 % 500 == 0:\n",
    "            print(\"%d/%d documents scanned\" % (docid1, len(messages)))\n",
    "\n",
    "        # Iterate through documents with docid larger than doc1\n",
    "        for docid2 in range(docid1+1, len(messages)):\n",
    "\n",
    "            # If this has not already been marked as duplicate of another document\n",
    "            if docid2 not in is_possible_duplicate:\n",
    "\n",
    "                # Extract signature of doc2\n",
    "                signature2 = extract_signature(docid2)\n",
    "                # - Increase count_sig_full_matches and count_sig_partial_matches as needed\n",
    "                # - Include docid2 in is_possible_duplicate if needed\n",
    "                \n",
    "                #first I compute the similarity with the function created at the beggining of the lab, jaccard_similarity                \n",
    "                similarity=jaccard_similarity(signature1,signature2)\n",
    "                \n",
    "                #and depending if it's a full_match or partial, we update each counter respectively\n",
    "                if similarity == 1.0:\n",
    "                    count_sig_full_matches += 1\n",
    "                    is_possible_duplicate[docid2] = True  \n",
    "                elif 0.2 < similarity < 1.0:\n",
    "                    count_sig_partial_matches += 1\n",
    "                    is_possible_duplicate[docid2] = True  \n",
    "\n",
    "        # Check if the number of matches exceeds the threshold\n",
    "        # - If the number of partial matches plus full matches exceeds a threshold\n",
    "        #   print the document doc1 and indicate how many matches of each type it has\n",
    "        total_matches = count_sig_full_matches + count_sig_partial_matches\n",
    "        #threshold is defined at the beggining at teh top of this code\n",
    "        if total_matches >= threshold:\n",
    "            print(f\"Document {docid1} has {count_sig_full_matches} full matches and \"\n",
    "                  f\"{count_sig_partial_matches} partial matches.\")\n",
    "        "
   ]
  },
  {
   "cell_type": "markdown",
   "metadata": {},
   "source": [
    "<font size=\"+1\" color=\"red\">Replace this cell with a brief commentary, based on the results above, about one tweet that has a substantial number of complete matches, but few partial matches. Include the full text of the original tweet. Comment on why you believe this tweet is not being changed much when copied or re-tweeted.</font>"
   ]
  },
  {
   "cell_type": "code",
   "execution_count": 67,
   "metadata": {},
   "outputs": [],
   "source": [
    "#print(messages[5077])\n",
    "#I added this line commented because otherwise when I re runed the code, with MAX_MESSAGES =1000, it appeared an error. \n",
    "\n"
   ]
  },
  {
   "cell_type": "markdown",
   "metadata": {},
   "source": [
    "<font size=\"+1\" color=\"blue\">After observing the results of the documents with the most full matches (document 5077 with 176 full matches) it appears that it has 176 full matches because it is not modified and it's a part of a FAQs section, which are commonly frequented by users. Concluding that it makes sense that it has 176 full matches </font>\n",
    "\n"
   ]
  },
  {
   "cell_type": "markdown",
   "metadata": {},
   "source": [
    "<font size=\"+1\" color=\"red\">Replace this cell with a brief commentary, based on the results above, about one tweet that has a substantial number of partial matches, but fewer complete matches. Include the full text of the original tweet and one near duplicate (that cannot be identical to the original tweet).</font>"
   ]
  },
  {
   "cell_type": "code",
   "execution_count": 63,
   "metadata": {},
   "outputs": [
    {
     "name": "stdout",
     "output_type": "stream",
     "text": [
      "original tweet: \n",
      " RT @VilaWeb: Els @mossos diuen que és més senzill confinar el Principat que diverses ciutats a la vegada https://t.co/piyLz82e9d\n",
      "\n",
      "near duplicate tweet: \n",
      "RT @VilaWeb: Els @mossos diuen que seria més fàcil confinar el Principat que múltiples ciutats a la vegada\n"
     ]
    }
   ],
   "source": [
    "print(\"original tweet: \\n\",messages[42])\n",
    "\n",
    "print(\"\\nnear duplicate tweet: \")\n",
    "print(\"RT @VilaWeb: Els @mossos diuen que seria més fàcil confinar el Principat que múltiples ciutats a la vegada\")\n"
   ]
  },
  {
   "cell_type": "markdown",
   "metadata": {},
   "source": [
    "<font size=\"+1\" color=\"blue\">Observing a tweet that has a substantial number of partial matches, is document 42, with 31 partial matches and 21 full-matches. Because it has a major number of keywords that are commonly used and relevant in a lot of conversations. Resulting that people will retweet it and  modify it slightly.</font>"
   ]
  },
  {
   "cell_type": "code",
   "execution_count": 64,
   "metadata": {},
   "outputs": [
    {
     "data": {
      "image/png": "[encoded data removed]",
      "text/plain": [
       "<Figure size 640x480 with 1 Axes>"
      ]
     },
     "metadata": {},
     "output_type": "display_data"
    }
   ],
   "source": [
    "#compare what happens with 3 different ngram sizes (2-grams, 3-grams, 4-grams) in terms of the efficiency (speed) \n",
    "#and effectiveness (accuracy). You can include plots for efficiency, and examples for effectiveness.\n",
    "\n",
    "\n",
    "\n",
    "message_intervals = range(1, 1001, 200)#I use the function range to increment the messages from 200 to 200\n",
    "\n",
    "\n",
    "stored_times={}#dictionary to keep the values for each n-gram, because later we will want to compare and plot them\n",
    "for i in range(2,5):\n",
    "    stored_times[i]=[]\n",
    "    for limit in message_intervals:#for each iteration, we compute the time for each interval\n",
    "        time = time_brute_force_similarities(messages, limit,i)\n",
    "        stored_times[i].append(time)#and add the time to dictionary\n",
    "\n",
    "        \n",
    "#Plot of efficiency for 2-gram, 3-gram, and 4-gram       \n",
    "for i in range(2,5):\n",
    "    plt.plot(message_intervals, stored_times[i], label=f\"{i}-gram\")\n",
    "\n",
    "plt.xlabel(\"Number of messages to check\")\n",
    "plt.ylabel(\"Time in seconds\")\n",
    "plt.title(\"Efficiency\")\n",
    "plt.grid(True)\n",
    "plt.legend()\n",
    "plt.show()\n",
    "\n",
    "    \n"
   ]
  },
  {
   "cell_type": "markdown",
   "metadata": {},
   "source": [
    "<font size=\"+1\" color=\"blue\">After plotting the different n-gram where n is {2,3,4}, I observe that for 800 messages to check, the n-gram the **most efficient**, and then the one that takes less time is the 3-gram.\n",
    "Concerning the **effectiveness**, the n-gram  effective will be the one in which the difference between the computed similarity and the expected similarity. We could compute it using the function of above jaccard_similarity</font>"
   ]
  },
  {
   "cell_type": "markdown",
   "metadata": {},
   "source": [
    "<font size=\"+2\" color=\"#003300\">I hereby declare that, except for the code provided by the course instructors, all of my code, report, and figures were produced by myself.</font>"
   ]
  }
 ],
 "metadata": {
  "kernelspec": {
   "display_name": "Python 3 (ipykernel)",
   "language": "python",
   "name": "python3"
  },
  "language_info": {
   "codemirror_mode": {
    "name": "ipython",
    "version": 3
   },
   "file_extension": ".py",
   "mimetype": "text/x-python",
   "name": "python",
   "nbconvert_exporter": "python",
   "pygments_lexer": "ipython3",
   "version": "3.11.5"
  }
 },
 "nbformat": 4,
 "nbformat_minor": 2
}
