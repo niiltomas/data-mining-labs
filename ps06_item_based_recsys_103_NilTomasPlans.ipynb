{
 "cells": [
  {
   "cell_type": "markdown",
   "metadata": {},
   "source": [
    "# Practice PS06: Recommendations engines (interactions-based)"
   ]
  },
  {
   "cell_type": "markdown",
   "metadata": {},
   "source": [
    "For this assignment we will build and apply an item-based and model-based collaborative filtering recommenders for movies. "
   ]
  },
  {
   "cell_type": "markdown",
   "metadata": {},
   "source": [
    "Author: <font color=\"blue\">Nil Tomàs Plans</font>\n",
    "\n",
    "E-mail: <font color=\"blue\">nil.tomas01@estudiant.upf.edu</font>\n",
    "\n",
    "Date: <font color=\"blue\">10/11/2024</font>"
   ]
  },
  {
   "cell_type": "markdown",
   "metadata": {},
   "source": [
    "# 1. The Movies dataset"
   ]
  },
  {
   "cell_type": "markdown",
   "metadata": {},
   "source": [
    "# 1.1. Load the input files"
   ]
  },
  {
   "cell_type": "code",
   "execution_count": 1,
   "metadata": {},
   "outputs": [],
   "source": [
    "# Leave this code as-is\n",
    "\n",
    "import numpy as np\n",
    "import pandas as pd \n",
    "import matplotlib.pyplot as plt\n",
    "from math import*\n",
    "from scipy.sparse.linalg import svds\n",
    "from sklearn.metrics.pairwise import linear_kernel"
   ]
  },
  {
   "cell_type": "code",
   "execution_count": 2,
   "metadata": {},
   "outputs": [],
   "source": [
    "# Leave this code as-is\n",
    "\n",
    "FILENAME_MOVIES = \"movies-2000s.csv\"\n",
    "FILENAME_RATINGS = \"ratings-2000s.csv\"\n",
    "FILENAME_TAGS = \"tags-2000s.csv\""
   ]
  },
  {
   "cell_type": "code",
   "execution_count": 3,
   "metadata": {},
   "outputs": [
    {
     "data": {
      "text/html": [
       "<div>\n",
       "<style scoped>\n",
       "    .dataframe tbody tr th:only-of-type {\n",
       "        vertical-align: middle;\n",
       "    }\n",
       "\n",
       "    .dataframe tbody tr th {\n",
       "        vertical-align: top;\n",
       "    }\n",
       "\n",
       "    .dataframe thead th {\n",
       "        text-align: right;\n",
       "    }\n",
       "</style>\n",
       "<table border=\"1\" class=\"dataframe\">\n",
       "  <thead>\n",
       "    <tr style=\"text-align: right;\">\n",
       "      <th></th>\n",
       "      <th>movie_id</th>\n",
       "      <th>title</th>\n",
       "      <th>genres</th>\n",
       "    </tr>\n",
       "  </thead>\n",
       "  <tbody>\n",
       "    <tr>\n",
       "      <th>0</th>\n",
       "      <td>2769</td>\n",
       "      <td>Yards, The (2000)</td>\n",
       "      <td>Crime|Drama</td>\n",
       "    </tr>\n",
       "    <tr>\n",
       "      <th>1</th>\n",
       "      <td>3177</td>\n",
       "      <td>Next Friday (2000)</td>\n",
       "      <td>Comedy</td>\n",
       "    </tr>\n",
       "    <tr>\n",
       "      <th>2</th>\n",
       "      <td>3190</td>\n",
       "      <td>Supernova (2000)</td>\n",
       "      <td>Adventure|Sci-Fi|Thriller</td>\n",
       "    </tr>\n",
       "    <tr>\n",
       "      <th>3</th>\n",
       "      <td>3225</td>\n",
       "      <td>Down to You (2000)</td>\n",
       "      <td>Comedy|Romance</td>\n",
       "    </tr>\n",
       "    <tr>\n",
       "      <th>4</th>\n",
       "      <td>3228</td>\n",
       "      <td>Wirey Spindell (2000)</td>\n",
       "      <td>Comedy</td>\n",
       "    </tr>\n",
       "  </tbody>\n",
       "</table>\n",
       "</div>"
      ],
      "text/plain": [
       "   movie_id                  title                     genres\n",
       "0      2769      Yards, The (2000)                Crime|Drama\n",
       "1      3177     Next Friday (2000)                     Comedy\n",
       "2      3190       Supernova (2000)  Adventure|Sci-Fi|Thriller\n",
       "3      3225     Down to You (2000)             Comedy|Romance\n",
       "4      3228  Wirey Spindell (2000)                     Comedy"
      ]
     },
     "metadata": {},
     "output_type": "display_data"
    },
    {
     "data": {
      "text/html": [
       "<div>\n",
       "<style scoped>\n",
       "    .dataframe tbody tr th:only-of-type {\n",
       "        vertical-align: middle;\n",
       "    }\n",
       "\n",
       "    .dataframe tbody tr th {\n",
       "        vertical-align: top;\n",
       "    }\n",
       "\n",
       "    .dataframe thead th {\n",
       "        text-align: right;\n",
       "    }\n",
       "</style>\n",
       "<table border=\"1\" class=\"dataframe\">\n",
       "  <thead>\n",
       "    <tr style=\"text-align: right;\">\n",
       "      <th></th>\n",
       "      <th>user_id</th>\n",
       "      <th>movie_id</th>\n",
       "      <th>rating</th>\n",
       "    </tr>\n",
       "  </thead>\n",
       "  <tbody>\n",
       "    <tr>\n",
       "      <th>0</th>\n",
       "      <td>4</td>\n",
       "      <td>1</td>\n",
       "      <td>3.0</td>\n",
       "    </tr>\n",
       "    <tr>\n",
       "      <th>1</th>\n",
       "      <td>4</td>\n",
       "      <td>260</td>\n",
       "      <td>3.5</td>\n",
       "    </tr>\n",
       "    <tr>\n",
       "      <th>2</th>\n",
       "      <td>4</td>\n",
       "      <td>296</td>\n",
       "      <td>4.0</td>\n",
       "    </tr>\n",
       "    <tr>\n",
       "      <th>3</th>\n",
       "      <td>4</td>\n",
       "      <td>541</td>\n",
       "      <td>4.5</td>\n",
       "    </tr>\n",
       "    <tr>\n",
       "      <th>4</th>\n",
       "      <td>4</td>\n",
       "      <td>589</td>\n",
       "      <td>4.0</td>\n",
       "    </tr>\n",
       "  </tbody>\n",
       "</table>\n",
       "</div>"
      ],
      "text/plain": [
       "   user_id  movie_id  rating\n",
       "0        4         1     3.0\n",
       "1        4       260     3.5\n",
       "2        4       296     4.0\n",
       "3        4       541     4.5\n",
       "4        4       589     4.0"
      ]
     },
     "metadata": {},
     "output_type": "display_data"
    }
   ],
   "source": [
    "# Leave this code as-is\n",
    "\n",
    "movies = pd.read_csv(FILENAME_MOVIES, \n",
    "                    sep=',', \n",
    "                    engine='python', \n",
    "                    encoding='latin-1',\n",
    "                    names=['movie_id', 'title', 'genres'])\n",
    "display(movies.head(5))\n",
    "\n",
    "ratings_raw = pd.read_csv(FILENAME_RATINGS, \n",
    "                    sep=',', \n",
    "                    encoding='latin-1',\n",
    "                    engine='python',\n",
    "                    names=['user_id', 'movie_id', 'rating'])\n",
    "display(ratings_raw.head(5))"
   ]
  },
  {
   "cell_type": "markdown",
   "metadata": {},
   "source": [
    "# 1.2. Merge the data into a single dataframe"
   ]
  },
  {
   "cell_type": "markdown",
   "metadata": {},
   "source": [
    "<font size=\"+1\" color=\"red\">Replace this cell with your code from the previous practice that joined these three dataframes using \"merge\" into a single dataframe named \"ratings\". Print the first 5 rows of the resulting dataframe, which should contain columns \"user_id\", \"movie_id\", \"rating\", \"title\", and \"genres\".</font>"
   ]
  },
  {
   "cell_type": "code",
   "execution_count": 4,
   "metadata": {},
   "outputs": [
    {
     "data": {
      "text/html": [
       "<div>\n",
       "<style scoped>\n",
       "    .dataframe tbody tr th:only-of-type {\n",
       "        vertical-align: middle;\n",
       "    }\n",
       "\n",
       "    .dataframe tbody tr th {\n",
       "        vertical-align: top;\n",
       "    }\n",
       "\n",
       "    .dataframe thead th {\n",
       "        text-align: right;\n",
       "    }\n",
       "</style>\n",
       "<table border=\"1\" class=\"dataframe\">\n",
       "  <thead>\n",
       "    <tr style=\"text-align: right;\">\n",
       "      <th></th>\n",
       "      <th>movie_id</th>\n",
       "      <th>title</th>\n",
       "      <th>genres</th>\n",
       "      <th>user_id</th>\n",
       "      <th>rating</th>\n",
       "    </tr>\n",
       "  </thead>\n",
       "  <tbody>\n",
       "    <tr>\n",
       "      <th>0</th>\n",
       "      <td>2769</td>\n",
       "      <td>Yards, The (2000)</td>\n",
       "      <td>Crime|Drama</td>\n",
       "      <td>1115</td>\n",
       "      <td>4.0</td>\n",
       "    </tr>\n",
       "    <tr>\n",
       "      <th>1</th>\n",
       "      <td>2769</td>\n",
       "      <td>Yards, The (2000)</td>\n",
       "      <td>Crime|Drama</td>\n",
       "      <td>1209</td>\n",
       "      <td>2.0</td>\n",
       "    </tr>\n",
       "    <tr>\n",
       "      <th>2</th>\n",
       "      <td>2769</td>\n",
       "      <td>Yards, The (2000)</td>\n",
       "      <td>Crime|Drama</td>\n",
       "      <td>2004</td>\n",
       "      <td>3.0</td>\n",
       "    </tr>\n",
       "    <tr>\n",
       "      <th>3</th>\n",
       "      <td>2769</td>\n",
       "      <td>Yards, The (2000)</td>\n",
       "      <td>Crime|Drama</td>\n",
       "      <td>2502</td>\n",
       "      <td>4.0</td>\n",
       "    </tr>\n",
       "    <tr>\n",
       "      <th>4</th>\n",
       "      <td>2769</td>\n",
       "      <td>Yards, The (2000)</td>\n",
       "      <td>Crime|Drama</td>\n",
       "      <td>2827</td>\n",
       "      <td>4.0</td>\n",
       "    </tr>\n",
       "  </tbody>\n",
       "</table>\n",
       "</div>"
      ],
      "text/plain": [
       "   movie_id              title       genres  user_id  rating\n",
       "0      2769  Yards, The (2000)  Crime|Drama     1115     4.0\n",
       "1      2769  Yards, The (2000)  Crime|Drama     1209     2.0\n",
       "2      2769  Yards, The (2000)  Crime|Drama     2004     3.0\n",
       "3      2769  Yards, The (2000)  Crime|Drama     2502     4.0\n",
       "4      2769  Yards, The (2000)  Crime|Drama     2827     4.0"
      ]
     },
     "metadata": {},
     "output_type": "display_data"
    }
   ],
   "source": [
    "ratings=pd.merge(movies, ratings_raw, on=\"movie_id\")\n",
    "display(ratings.head())"
   ]
  },
  {
   "cell_type": "markdown",
   "metadata": {},
   "source": [
    "<font size=\"+1\" color=\"red\">Replace this cell with your code from the previous practice for \"find_movies\" that list movies containing a keyword</font>"
   ]
  },
  {
   "cell_type": "code",
   "execution_count": 5,
   "metadata": {},
   "outputs": [],
   "source": [
    "#code from the previous practice for \"find_movies\" that list movies containing a keyword\n",
    "def find_movies(word, movies):\n",
    "    for movie in movies.to_dict('records'):#for each row in the dataframe we turn it into a dictionary \n",
    "        #to be able to access to columns more easly\n",
    "        if word in movie['title']:#if word in title print results\n",
    "            print(\"movie_id: \",movie['movie_id'],\" title: \",movie['title'])\n",
    "\n",
    "  "
   ]
  },
  {
   "cell_type": "code",
   "execution_count": 6,
   "metadata": {},
   "outputs": [
    {
     "name": "stdout",
     "output_type": "stream",
     "text": [
      "movie_id:  5349  title:  Spider-Man (2002)\n",
      "movie_id:  8636  title:  Spider-Man 2 (2004)\n",
      "movie_id:  52722  title:  Spider-Man 3 (2007)\n",
      "movie_id:  76709  title:  Spider-Man: The Ultimate Villain Showdown (2002)\n",
      "movie_id:  95510  title:  Amazing Spider-Man, The (2012)\n",
      "movie_id:  110553  title:  The Amazing Spider-Man 2 (2014)\n",
      "movie_id:  122926  title:  Untitled Spider-Man Reboot (2017)\n",
      "movie_id:  195159  title:  Spider-Man: Into the Spider-Verse (2018)\n",
      "movie_id:  201773  title:  Spider-Man: Far from Home (2019)\n"
     ]
    }
   ],
   "source": [
    "# LEAVE AS-IS\n",
    "\n",
    "# For testing, this should print 9 movies\n",
    "find_movies(\"Spider-Man\", movies)"
   ]
  },
  {
   "cell_type": "code",
   "execution_count": 7,
   "metadata": {},
   "outputs": [],
   "source": [
    "# LEAVE AS-IS\n",
    "\n",
    "def get_title(movie_id, movies):\n",
    "    return movies[movies['movie_id'] == movie_id].title.iloc[0]"
   ]
  },
  {
   "cell_type": "code",
   "execution_count": 8,
   "metadata": {},
   "outputs": [
    {
     "name": "stdout",
     "output_type": "stream",
     "text": [
      "Spider-Man 2 (2004)\n"
     ]
    }
   ],
   "source": [
    "# LEAVE AS-IS\n",
    "\n",
    "# For testing, should print \"Spider-Man 2 (2004)\"\n",
    "print(get_title(8636, movies))"
   ]
  },
  {
   "cell_type": "markdown",
   "metadata": {},
   "source": [
    "## 1.3. Count unique registers"
   ]
  },
  {
   "cell_type": "markdown",
   "metadata": {},
   "source": [
    "<font size=\"+1\" color=\"red\">Replace this cell with your own code to indicate the number of unique users and unique movies in the \"ratings\" variable.</font>"
   ]
  },
  {
   "cell_type": "code",
   "execution_count": 9,
   "metadata": {},
   "outputs": [
    {
     "name": "stdout",
     "output_type": "stream",
     "text": [
      "Number of users who have rated a movie:  12676\n",
      "Number of movies that have been rated:  2049\n",
      "Total number of movies:  33168\n"
     ]
    }
   ],
   "source": [
    "#code to indicate the number of unique users and unique movies in the \"ratings\" variable.\n",
    "users=ratings['user_id'].unique()#first we do the select of the unique values and we store them in arrays\n",
    "mov=ratings['movie_id'].unique()\n",
    "cont_movies=movies['movie_id'].unique()\n",
    "#print the total count of values using the length of the array\n",
    "print(\"Number of users who have rated a movie: \",len(users))\n",
    "print(\"Number of movies that have been rated: \",len(mov))\n",
    "print(\"Total number of movies: \", len(cont_movies))\n"
   ]
  },
  {
   "cell_type": "markdown",
   "metadata": {},
   "source": [
    "# 2. Item-based Collaborative Filtering"
   ]
  },
  {
   "cell_type": "markdown",
   "metadata": {},
   "source": [
    "## 2.1. Data pre-processing"
   ]
  },
  {
   "cell_type": "markdown",
   "metadata": {},
   "source": [
    "<font size=\"+1\" color=\"red\">Replace this cell with your code to generate \"rated_movies\" and print the first ten rows. This should have columns user_id, movie_id, rating, title</font>"
   ]
  },
  {
   "cell_type": "code",
   "execution_count": 10,
   "metadata": {},
   "outputs": [
    {
     "data": {
      "text/html": [
       "<div>\n",
       "<style scoped>\n",
       "    .dataframe tbody tr th:only-of-type {\n",
       "        vertical-align: middle;\n",
       "    }\n",
       "\n",
       "    .dataframe tbody tr th {\n",
       "        vertical-align: top;\n",
       "    }\n",
       "\n",
       "    .dataframe thead th {\n",
       "        text-align: right;\n",
       "    }\n",
       "</style>\n",
       "<table border=\"1\" class=\"dataframe\">\n",
       "  <thead>\n",
       "    <tr style=\"text-align: right;\">\n",
       "      <th></th>\n",
       "      <th>movie_id</th>\n",
       "      <th>title</th>\n",
       "      <th>user_id</th>\n",
       "      <th>rating</th>\n",
       "    </tr>\n",
       "  </thead>\n",
       "  <tbody>\n",
       "    <tr>\n",
       "      <th>0</th>\n",
       "      <td>2769</td>\n",
       "      <td>Yards, The (2000)</td>\n",
       "      <td>1115</td>\n",
       "      <td>4.0</td>\n",
       "    </tr>\n",
       "    <tr>\n",
       "      <th>1</th>\n",
       "      <td>2769</td>\n",
       "      <td>Yards, The (2000)</td>\n",
       "      <td>1209</td>\n",
       "      <td>2.0</td>\n",
       "    </tr>\n",
       "    <tr>\n",
       "      <th>2</th>\n",
       "      <td>2769</td>\n",
       "      <td>Yards, The (2000)</td>\n",
       "      <td>2004</td>\n",
       "      <td>3.0</td>\n",
       "    </tr>\n",
       "    <tr>\n",
       "      <th>3</th>\n",
       "      <td>2769</td>\n",
       "      <td>Yards, The (2000)</td>\n",
       "      <td>2502</td>\n",
       "      <td>4.0</td>\n",
       "    </tr>\n",
       "    <tr>\n",
       "      <th>4</th>\n",
       "      <td>2769</td>\n",
       "      <td>Yards, The (2000)</td>\n",
       "      <td>2827</td>\n",
       "      <td>4.0</td>\n",
       "    </tr>\n",
       "    <tr>\n",
       "      <th>5</th>\n",
       "      <td>2769</td>\n",
       "      <td>Yards, The (2000)</td>\n",
       "      <td>6629</td>\n",
       "      <td>1.0</td>\n",
       "    </tr>\n",
       "    <tr>\n",
       "      <th>6</th>\n",
       "      <td>2769</td>\n",
       "      <td>Yards, The (2000)</td>\n",
       "      <td>12435</td>\n",
       "      <td>4.0</td>\n",
       "    </tr>\n",
       "    <tr>\n",
       "      <th>7</th>\n",
       "      <td>2769</td>\n",
       "      <td>Yards, The (2000)</td>\n",
       "      <td>13873</td>\n",
       "      <td>3.0</td>\n",
       "    </tr>\n",
       "    <tr>\n",
       "      <th>8</th>\n",
       "      <td>2769</td>\n",
       "      <td>Yards, The (2000)</td>\n",
       "      <td>14799</td>\n",
       "      <td>3.0</td>\n",
       "    </tr>\n",
       "    <tr>\n",
       "      <th>9</th>\n",
       "      <td>2769</td>\n",
       "      <td>Yards, The (2000)</td>\n",
       "      <td>15691</td>\n",
       "      <td>2.5</td>\n",
       "    </tr>\n",
       "  </tbody>\n",
       "</table>\n",
       "</div>"
      ],
      "text/plain": [
       "   movie_id              title  user_id  rating\n",
       "0      2769  Yards, The (2000)     1115     4.0\n",
       "1      2769  Yards, The (2000)     1209     2.0\n",
       "2      2769  Yards, The (2000)     2004     3.0\n",
       "3      2769  Yards, The (2000)     2502     4.0\n",
       "4      2769  Yards, The (2000)     2827     4.0\n",
       "5      2769  Yards, The (2000)     6629     1.0\n",
       "6      2769  Yards, The (2000)    12435     4.0\n",
       "7      2769  Yards, The (2000)    13873     3.0\n",
       "8      2769  Yards, The (2000)    14799     3.0\n",
       "9      2769  Yards, The (2000)    15691     2.5"
      ]
     },
     "metadata": {},
     "output_type": "display_data"
    }
   ],
   "source": [
    "#code to generate \"rated_movies\" and print the first ten rows. This should have columns user_id, movie_id, rating, title\n",
    "\n",
    "rated_movies=ratings.drop('genres', axis='columns')\n",
    "display(rated_movies.head(10))"
   ]
  },
  {
   "cell_type": "markdown",
   "metadata": {},
   "source": [
    "<font size=\"+1\" color=\"red\">Replace this cell with your code to generate \"ratings_summary\" and print the first 10 rows.</font>"
   ]
  },
  {
   "cell_type": "code",
   "execution_count": 11,
   "metadata": {},
   "outputs": [
    {
     "data": {
      "text/html": [
       "<div>\n",
       "<style scoped>\n",
       "    .dataframe tbody tr th:only-of-type {\n",
       "        vertical-align: middle;\n",
       "    }\n",
       "\n",
       "    .dataframe tbody tr th {\n",
       "        vertical-align: top;\n",
       "    }\n",
       "\n",
       "    .dataframe thead th {\n",
       "        text-align: right;\n",
       "    }\n",
       "</style>\n",
       "<table border=\"1\" class=\"dataframe\">\n",
       "  <thead>\n",
       "    <tr style=\"text-align: right;\">\n",
       "      <th></th>\n",
       "      <th>movie_id</th>\n",
       "      <th>title</th>\n",
       "      <th>ratings_mean</th>\n",
       "      <th>ratings_count</th>\n",
       "    </tr>\n",
       "  </thead>\n",
       "  <tbody>\n",
       "    <tr>\n",
       "      <th>0</th>\n",
       "      <td>2769</td>\n",
       "      <td>Yards, The (2000)</td>\n",
       "      <td>3.122549</td>\n",
       "      <td>102</td>\n",
       "    </tr>\n",
       "    <tr>\n",
       "      <th>102</th>\n",
       "      <td>3177</td>\n",
       "      <td>Next Friday (2000)</td>\n",
       "      <td>2.824000</td>\n",
       "      <td>125</td>\n",
       "    </tr>\n",
       "    <tr>\n",
       "      <th>227</th>\n",
       "      <td>3190</td>\n",
       "      <td>Supernova (2000)</td>\n",
       "      <td>2.395683</td>\n",
       "      <td>139</td>\n",
       "    </tr>\n",
       "    <tr>\n",
       "      <th>366</th>\n",
       "      <td>3225</td>\n",
       "      <td>Down to You (2000)</td>\n",
       "      <td>2.577273</td>\n",
       "      <td>110</td>\n",
       "    </tr>\n",
       "    <tr>\n",
       "      <th>476</th>\n",
       "      <td>3228</td>\n",
       "      <td>Wirey Spindell (2000)</td>\n",
       "      <td>2.500000</td>\n",
       "      <td>2</td>\n",
       "    </tr>\n",
       "    <tr>\n",
       "      <th>478</th>\n",
       "      <td>3239</td>\n",
       "      <td>Isn't She Great? (2000)</td>\n",
       "      <td>1.947368</td>\n",
       "      <td>19</td>\n",
       "    </tr>\n",
       "    <tr>\n",
       "      <th>497</th>\n",
       "      <td>3273</td>\n",
       "      <td>Scream 3 (2000)</td>\n",
       "      <td>2.444664</td>\n",
       "      <td>759</td>\n",
       "    </tr>\n",
       "    <tr>\n",
       "      <th>1256</th>\n",
       "      <td>3275</td>\n",
       "      <td>Boondock Saints, The (2000)</td>\n",
       "      <td>3.870682</td>\n",
       "      <td>1071</td>\n",
       "    </tr>\n",
       "    <tr>\n",
       "      <th>2327</th>\n",
       "      <td>3276</td>\n",
       "      <td>Gun Shy (2000)</td>\n",
       "      <td>3.338710</td>\n",
       "      <td>31</td>\n",
       "    </tr>\n",
       "    <tr>\n",
       "      <th>2358</th>\n",
       "      <td>3279</td>\n",
       "      <td>Knockout (2000)</td>\n",
       "      <td>2.000000</td>\n",
       "      <td>2</td>\n",
       "    </tr>\n",
       "  </tbody>\n",
       "</table>\n",
       "</div>"
      ],
      "text/plain": [
       "      movie_id                        title  ratings_mean  ratings_count\n",
       "0         2769            Yards, The (2000)      3.122549            102\n",
       "102       3177           Next Friday (2000)      2.824000            125\n",
       "227       3190             Supernova (2000)      2.395683            139\n",
       "366       3225           Down to You (2000)      2.577273            110\n",
       "476       3228        Wirey Spindell (2000)      2.500000              2\n",
       "478       3239      Isn't She Great? (2000)      1.947368             19\n",
       "497       3273              Scream 3 (2000)      2.444664            759\n",
       "1256      3275  Boondock Saints, The (2000)      3.870682           1071\n",
       "2327      3276               Gun Shy (2000)      3.338710             31\n",
       "2358      3279              Knockout (2000)      2.000000              2"
      ]
     },
     "metadata": {},
     "output_type": "display_data"
    }
   ],
   "source": [
    "#code to generate \"ratings_summary\" and print the first 10 rows.\n",
    "\n",
    "#initialize the ratings_summary\n",
    "ratings_summary=rated_movies.drop(['user_id', 'rating'], axis='columns').drop_duplicates()\n",
    "\n",
    "#Compute two series: ratings_mean and ratings_count\n",
    "ratings_mean = rated_movies.groupby('movie_id')['rating'].mean()\n",
    "ratings_count = rated_movies.groupby('movie_id')['user_id'].count()\n",
    "\n",
    "#use.map(series) to add the series to the dataframe\n",
    "ratings_summary['ratings_mean'] = ratings_summary['movie_id'].map(ratings_mean)\n",
    "ratings_summary['ratings_count'] = ratings_summary['movie_id'].map(ratings_count)\n",
    "\n",
    "\n",
    "display(ratings_summary.head(10))\n"
   ]
  },
  {
   "cell_type": "markdown",
   "metadata": {},
   "source": [
    "<font size=\"+1\" color=\"red\">Replace this cell with code to print the top 5 highest rated movies, considering only movies receiving at least 100 ratings.</font>"
   ]
  },
  {
   "cell_type": "code",
   "execution_count": 12,
   "metadata": {},
   "outputs": [
    {
     "data": {
      "text/html": [
       "<div>\n",
       "<style scoped>\n",
       "    .dataframe tbody tr th:only-of-type {\n",
       "        vertical-align: middle;\n",
       "    }\n",
       "\n",
       "    .dataframe tbody tr th {\n",
       "        vertical-align: top;\n",
       "    }\n",
       "\n",
       "    .dataframe thead th {\n",
       "        text-align: right;\n",
       "    }\n",
       "</style>\n",
       "<table border=\"1\" class=\"dataframe\">\n",
       "  <thead>\n",
       "    <tr style=\"text-align: right;\">\n",
       "      <th></th>\n",
       "      <th>movie_id</th>\n",
       "      <th>title</th>\n",
       "      <th>ratings_mean</th>\n",
       "      <th>ratings_count</th>\n",
       "    </tr>\n",
       "  </thead>\n",
       "  <tbody>\n",
       "    <tr>\n",
       "      <th>242492</th>\n",
       "      <td>5618</td>\n",
       "      <td>Spirited Away (Sen to Chihiro no kamikakushi) ...</td>\n",
       "      <td>4.215216</td>\n",
       "      <td>2458</td>\n",
       "    </tr>\n",
       "    <tr>\n",
       "      <th>279800</th>\n",
       "      <td>6016</td>\n",
       "      <td>City of God (Cidade de Deus) (2002)</td>\n",
       "      <td>4.186592</td>\n",
       "      <td>2133</td>\n",
       "    </tr>\n",
       "    <tr>\n",
       "      <th>103127</th>\n",
       "      <td>4226</td>\n",
       "      <td>Memento (2000)</td>\n",
       "      <td>4.158512</td>\n",
       "      <td>4476</td>\n",
       "    </tr>\n",
       "    <tr>\n",
       "      <th>361785</th>\n",
       "      <td>7156</td>\n",
       "      <td>Fog of War: Eleven Lessons from the Life of Ro...</td>\n",
       "      <td>4.112013</td>\n",
       "      <td>308</td>\n",
       "    </tr>\n",
       "    <tr>\n",
       "      <th>172739</th>\n",
       "      <td>4973</td>\n",
       "      <td>Amelie (Fabuleux destin d'AmÃ©lie Poulain, Le)...</td>\n",
       "      <td>4.097234</td>\n",
       "      <td>3687</td>\n",
       "    </tr>\n",
       "  </tbody>\n",
       "</table>\n",
       "</div>"
      ],
      "text/plain": [
       "        movie_id                                              title  \\\n",
       "242492      5618  Spirited Away (Sen to Chihiro no kamikakushi) ...   \n",
       "279800      6016                City of God (Cidade de Deus) (2002)   \n",
       "103127      4226                                     Memento (2000)   \n",
       "361785      7156  Fog of War: Eleven Lessons from the Life of Ro...   \n",
       "172739      4973  Amelie (Fabuleux destin d'AmÃ©lie Poulain, Le)...   \n",
       "\n",
       "        ratings_mean  ratings_count  \n",
       "242492      4.215216           2458  \n",
       "279800      4.186592           2133  \n",
       "103127      4.158512           4476  \n",
       "361785      4.112013            308  \n",
       "172739      4.097234           3687  "
      ]
     },
     "metadata": {},
     "output_type": "display_data"
    }
   ],
   "source": [
    "new_ratings=ratings_summary[ratings_summary['ratings_count']>=100]#To select from dataframe thise with more than 100 rates\n",
    "sorted_ratings=new_ratings.sort_values(by='ratings_mean',ascending=False)#sort according to ratings_count\n",
    "display(sorted_ratings.head())#print top-5"
   ]
  },
  {
   "cell_type": "markdown",
   "metadata": {},
   "source": [
    "<font size=\"+1\" color=\"red\">Repeat this, but this time consider movies receiving at least 3 ratings.</font>"
   ]
  },
  {
   "cell_type": "code",
   "execution_count": 13,
   "metadata": {},
   "outputs": [
    {
     "data": {
      "text/html": [
       "<div>\n",
       "<style scoped>\n",
       "    .dataframe tbody tr th:only-of-type {\n",
       "        vertical-align: middle;\n",
       "    }\n",
       "\n",
       "    .dataframe tbody tr th {\n",
       "        vertical-align: top;\n",
       "    }\n",
       "\n",
       "    .dataframe thead th {\n",
       "        text-align: right;\n",
       "    }\n",
       "</style>\n",
       "<table border=\"1\" class=\"dataframe\">\n",
       "  <thead>\n",
       "    <tr style=\"text-align: right;\">\n",
       "      <th></th>\n",
       "      <th>movie_id</th>\n",
       "      <th>title</th>\n",
       "      <th>ratings_mean</th>\n",
       "      <th>ratings_count</th>\n",
       "    </tr>\n",
       "  </thead>\n",
       "  <tbody>\n",
       "    <tr>\n",
       "      <th>197114</th>\n",
       "      <td>5082</td>\n",
       "      <td>Rumor of Angels, A (2000)</td>\n",
       "      <td>4.666667</td>\n",
       "      <td>6</td>\n",
       "    </tr>\n",
       "    <tr>\n",
       "      <th>444858</th>\n",
       "      <td>27764</td>\n",
       "      <td>2LDK (2003)</td>\n",
       "      <td>4.500000</td>\n",
       "      <td>3</td>\n",
       "    </tr>\n",
       "    <tr>\n",
       "      <th>464942</th>\n",
       "      <td>31954</td>\n",
       "      <td>Beautiful City (Shah-re ziba) (2004)</td>\n",
       "      <td>4.400000</td>\n",
       "      <td>5</td>\n",
       "    </tr>\n",
       "    <tr>\n",
       "      <th>203989</th>\n",
       "      <td>5224</td>\n",
       "      <td>Promises (2001)</td>\n",
       "      <td>4.388889</td>\n",
       "      <td>18</td>\n",
       "    </tr>\n",
       "    <tr>\n",
       "      <th>331467</th>\n",
       "      <td>6775</td>\n",
       "      <td>Life and Debt (2001)</td>\n",
       "      <td>4.333333</td>\n",
       "      <td>3</td>\n",
       "    </tr>\n",
       "  </tbody>\n",
       "</table>\n",
       "</div>"
      ],
      "text/plain": [
       "        movie_id                                 title  ratings_mean  \\\n",
       "197114      5082             Rumor of Angels, A (2000)      4.666667   \n",
       "444858     27764                           2LDK (2003)      4.500000   \n",
       "464942     31954  Beautiful City (Shah-re ziba) (2004)      4.400000   \n",
       "203989      5224                       Promises (2001)      4.388889   \n",
       "331467      6775                  Life and Debt (2001)      4.333333   \n",
       "\n",
       "        ratings_count  \n",
       "197114              6  \n",
       "444858              3  \n",
       "464942              5  \n",
       "203989             18  \n",
       "331467              3  "
      ]
     },
     "metadata": {},
     "output_type": "display_data"
    }
   ],
   "source": [
    "new_ratings=ratings_summary[ratings_summary['ratings_count']>=3]#To select from dataframe thise with more than 100 rates\n",
    "sorted_ratings=new_ratings.sort_values(by='ratings_mean',ascending=False)#sort according to ratings_count\n",
    "display(sorted_ratings.head())#print top-5"
   ]
  },
  {
   "cell_type": "markdown",
   "metadata": {},
   "source": [
    "<font size=\"+1\" color=\"red\">Replace this cell with a brief commentary, in your own words, on what happens when the number of ratings is set to a small value.</font>"
   ]
  },
  {
   "cell_type": "markdown",
   "metadata": {},
   "source": [
    "<font size=\"+1\" color=\"blue\">After analysing the two dataframes, we can observe that when the number of ratings that movie receive is very small, when sorting on rating_mean, usually the movies in the top-5 the rating is around 4.5 . Therefore, it's not really reflecting the reality, as there can be other movies with 2000 rates that the rate_mean is a bit lower, but it may still have got more rates with higher rates than movies in the top 5 wit 6-7 rates.</font>"
   ]
  },
  {
   "cell_type": "markdown",
   "metadata": {},
   "source": [
    "## 2.2. Compute the user-movie matrix"
   ]
  },
  {
   "cell_type": "markdown",
   "metadata": {},
   "source": [
    "<font size=\"+1\" color=\"red\">Replace this cell with code to generate a \"user_movie\" matrix by calling \"pivot_table\" on \"rated_movies\". Print the first 5 rows. It might take about one minute to compute, depending on your computer.</font>"
   ]
  },
  {
   "cell_type": "code",
   "execution_count": 14,
   "metadata": {},
   "outputs": [
    {
     "name": "stdout",
     "output_type": "stream",
     "text": [
      "movie_id  2769   3177   3190   3225   3228   3239   3273   3275   3276   \\\n",
      "user_id                                                                   \n",
      "4           NaN    NaN    NaN    NaN    NaN    NaN    NaN    NaN    NaN   \n",
      "33          NaN    NaN    NaN    NaN    NaN    NaN    NaN    NaN    NaN   \n",
      "62          NaN    NaN    NaN    NaN    NaN    NaN    NaN    4.5    NaN   \n",
      "63          NaN    NaN    NaN    NaN    NaN    NaN    NaN    NaN    NaN   \n",
      "95          NaN    NaN    NaN    NaN    NaN    NaN    NaN    3.5    NaN   \n",
      "\n",
      "movie_id  3279   ...  33138  33145  33148  33150  33152  33154  33158  33162  \\\n",
      "user_id          ...                                                           \n",
      "4           NaN  ...    NaN    NaN    NaN    NaN    NaN    NaN    NaN    NaN   \n",
      "33          NaN  ...    NaN    NaN    NaN    NaN    NaN    NaN    NaN    NaN   \n",
      "62          NaN  ...    NaN    NaN    NaN    NaN    NaN    NaN    NaN    NaN   \n",
      "63          NaN  ...    NaN    NaN    NaN    NaN    NaN    NaN    NaN    NaN   \n",
      "95          NaN  ...    NaN    NaN    NaN    NaN    NaN    NaN    NaN    NaN   \n",
      "\n",
      "movie_id  33164  33166  \n",
      "user_id                 \n",
      "4           NaN    NaN  \n",
      "33          NaN    NaN  \n",
      "62          NaN    3.5  \n",
      "63          NaN    NaN  \n",
      "95          NaN    NaN  \n",
      "\n",
      "[5 rows x 2049 columns]\n"
     ]
    }
   ],
   "source": [
    "\n",
    "user_movie=rated_movies.pivot_table(index='user_id',columns='movie_id',values='rating')\n",
    "print(user_movie.head())"
   ]
  },
  {
   "cell_type": "markdown",
   "metadata": {},
   "source": [
    "<font size=\"+1\" color=\"red\">Replace this a brief commentary indicating why do you think the \"user_movie\" matrix has so many \"NaN\" values. How do we call this characteristic of user ratings in recommender systems?</font>"
   ]
  },
  {
   "cell_type": "markdown",
   "metadata": {},
   "source": [
    "<font size=\"+1\" color=\"blue\">In my opinion it might be because not every user has rated all the movies. We call that the matrix is sparse because users have only rated a little group of movies inside the overall of movies  </font>"
   ]
  },
  {
   "cell_type": "markdown",
   "metadata": {},
   "source": [
    "# 2.3. Explore some correlations in the user-movie matrix"
   ]
  },
  {
   "cell_type": "markdown",
   "metadata": {},
   "source": [
    "<font size=\"+1\" color=\"red\">Replace this cell with code to compute and display the first 10 rows of the \"ratings3\" table as described above.</font>"
   ]
  },
  {
   "cell_type": "code",
   "execution_count": 15,
   "metadata": {},
   "outputs": [
    {
     "name": "stdout",
     "output_type": "stream",
     "text": [
      "         4993  6377  5878\n",
      "user_id                  \n",
      "859       3.0   4.0   5.0\n",
      "1229      4.0   4.0   4.5\n",
      "1281      3.0   2.5   3.0\n",
      "1722      5.0   4.5   4.0\n",
      "2004      4.5   3.0   3.5\n",
      "4590      4.0   4.0   2.0\n",
      "5052      2.0   4.0   4.0\n",
      "5144      5.0   5.0   5.0\n",
      "6497      3.5   3.5   3.5\n",
      "8369      3.0   4.0   4.5\n"
     ]
    }
   ],
   "source": [
    "titles=['Lord of the Rings: The Fellowship of the Ring, The (2001)','Finding Nemo (2003)','Talk to Her (Hable con Ella) (2002)']\n",
    "def get_movies_id(title, movies):\n",
    "    for movie in movies.to_dict('records'):#for each row in the dataframe we turn it into a dictionary \n",
    "        #to be able to access to columns more easly\n",
    "        if title == movie['title']:#if title ==title of movie\n",
    "            return movie['movie_id']\n",
    "\n",
    "\n",
    "id_pivot=get_movies_id(titles[0],movies)\n",
    "id_m1=get_movies_id(titles[1],movies)\n",
    "id_m2=get_movies_id(titles[2],movies)\n",
    "\n",
    "\n",
    "rates=[]\n",
    "r1=user_movie[id_pivot].dropna()#rates for movie== title1\n",
    "rates.append(r1)\n",
    "r2=user_movie[id_m1].dropna()#rates for movie== title2\n",
    "rates.append(r2)\n",
    "r3=user_movie[id_m2].dropna()#rates for movie== title3\n",
    "rates.append(r3)\n",
    "\n",
    "\n",
    "ratings3 = pd.concat([r1, r2, r3], axis=1)\n",
    "ratings3=ratings3.dropna()\n",
    "\n",
    "print(ratings3.head(10))"
   ]
  },
  {
   "cell_type": "markdown",
   "metadata": {},
   "source": [
    "<font size=\"+1\" color=\"red\">Replace this cell with code to compute all correlations between these three movies, as described above.</font>"
   ]
  },
  {
   "cell_type": "code",
   "execution_count": 16,
   "metadata": {},
   "outputs": [
    {
     "name": "stdout",
     "output_type": "stream",
     "text": [
      "Similarity between Lord of the Rings: The Fellowship of the Ring, The (2001) and Finding Nemo (2003) : 0.38 \n",
      "Similarity between Lord of the Rings: The Fellowship of the Ring, The (2001) and Talk to Her (Hable con Ella) (2002) : 0.16 \n",
      "Similarity between Finding Nemo (2003) and Talk to Her (Hable con Ella) (2002) : 0.20 \n"
     ]
    }
   ],
   "source": [
    "# Sample code snippet for calculating correlations between pairs of movie ratings\n",
    "pairs = [[1, 2], [1, 3], [2, 3]]\n",
    "for i, j in pairs:\n",
    "    similarity=ratings3.iloc[:, i-1].corr(ratings3.iloc[:, j-1])\n",
    "    print(f'Similarity between {titles[i-1]} and {titles[j-1]} : {similarity:.2f} ')\n"
   ]
  },
  {
   "cell_type": "markdown",
   "metadata": {},
   "source": [
    "<font size=\"+1\" color=\"red\">Replace this cell with a brief commentary on the correlations you find.</font>"
   ]
  },
  {
   "cell_type": "markdown",
   "metadata": {},
   "source": [
    "<font size=\"+1\" color=\"blue\">The correlations computed are correct. We can observe that the higher correlation between movies is between Lord of the Rings and Nemo. This could mean that usually, users that like Lord of the rings, a movie of adventure and action, may also like, or have liked nemo, an adventure movie but for a more youthful public.</font>"
   ]
  },
  {
   "cell_type": "markdown",
   "metadata": {},
   "source": [
    "<font size=\"+1\" color=\"red\">Replace this cell with code to create a \"similarity_to_pivot\" series that contains the computed correlations, droping the NaNs in the series.</font>"
   ]
  },
  {
   "cell_type": "code",
   "execution_count": 17,
   "metadata": {},
   "outputs": [
    {
     "name": "stdout",
     "output_type": "stream",
     "text": [
      "   movie_id  corr_with_pivot\n",
      "0      2769        -0.127515\n",
      "1      3177         0.093221\n",
      "2      3190         0.041206\n",
      "3      3225         0.126600\n",
      "5      3239         0.338378\n"
     ]
    }
   ],
   "source": [
    "#extract ratings from df_pivot\n",
    "df_pivot = pd.DataFrame(user_movie[id_pivot].dropna()).rename(columns={id_pivot: \"rating\"})\n",
    "\n",
    "# Compute correlation with other movies\n",
    "similarity_to_pivot = []\n",
    "for movie_id in user_movie.columns:\n",
    "    if movie_id != id_pivot:\n",
    "        df = pd.DataFrame(user_movie[movie_id].dropna()).rename(columns={movie_id: \"rating\"})\n",
    "        corr = df_pivot.corrwith(df)[0]\n",
    "        similarity_to_pivot.append([movie_id, corr])\n",
    "    \n",
    "\n",
    "#create the dataframe with both columns and drop NaN values\n",
    "similarity_to_pivot = pd.DataFrame(similarity_to_pivot, columns=[\"movie_id\", \"corr_with_pivot\"])\n",
    "similarity_to_pivot = similarity_to_pivot.dropna()\n",
    "\n",
    "\n",
    "print(similarity_to_pivot.head())"
   ]
  },
  {
   "cell_type": "markdown",
   "metadata": {},
   "source": [
    "<font size=\"+1\" color=\"red\">Replace this cell with code to create a \"corr_with_pivot\" dataframe as specified above, and to print the 20 movies (rated 500 times or more) with the highest correlation with the selected movie.</font>"
   ]
  },
  {
   "cell_type": "code",
   "execution_count": 18,
   "metadata": {},
   "outputs": [
    {
     "data": {
      "text/html": [
       "<div>\n",
       "<style scoped>\n",
       "    .dataframe tbody tr th:only-of-type {\n",
       "        vertical-align: middle;\n",
       "    }\n",
       "\n",
       "    .dataframe tbody tr th {\n",
       "        vertical-align: top;\n",
       "    }\n",
       "\n",
       "    .dataframe thead th {\n",
       "        text-align: right;\n",
       "    }\n",
       "</style>\n",
       "<table border=\"1\" class=\"dataframe\">\n",
       "  <thead>\n",
       "    <tr style=\"text-align: right;\">\n",
       "      <th></th>\n",
       "      <th>movie_id</th>\n",
       "      <th>corr_with_pivot</th>\n",
       "      <th>title</th>\n",
       "      <th>ratings_mean</th>\n",
       "      <th>ratings_count</th>\n",
       "    </tr>\n",
       "  </thead>\n",
       "  <tbody>\n",
       "    <tr>\n",
       "      <th>807</th>\n",
       "      <td>5952</td>\n",
       "      <td>0.892103</td>\n",
       "      <td>Lord of the Rings: The Two Towers, The (2002)</td>\n",
       "      <td>4.083869</td>\n",
       "      <td>5449</td>\n",
       "    </tr>\n",
       "    <tr>\n",
       "      <th>1177</th>\n",
       "      <td>7153</td>\n",
       "      <td>0.892073</td>\n",
       "      <td>Lord of the Rings: The Return of the King, The...</td>\n",
       "      <td>4.083960</td>\n",
       "      <td>5449</td>\n",
       "    </tr>\n",
       "    <tr>\n",
       "      <th>986</th>\n",
       "      <td>6539</td>\n",
       "      <td>0.377599</td>\n",
       "      <td>Pirates of the Caribbean: The Curse of the Bla...</td>\n",
       "      <td>3.779241</td>\n",
       "      <td>3950</td>\n",
       "    </tr>\n",
       "    <tr>\n",
       "      <th>1339</th>\n",
       "      <td>8368</td>\n",
       "      <td>0.340934</td>\n",
       "      <td>Harry Potter and the Prisoner of Azkaban (2004)</td>\n",
       "      <td>3.809971</td>\n",
       "      <td>2397</td>\n",
       "    </tr>\n",
       "    <tr>\n",
       "      <th>55</th>\n",
       "      <td>3578</td>\n",
       "      <td>0.337667</td>\n",
       "      <td>Gladiator (2000)</td>\n",
       "      <td>3.951050</td>\n",
       "      <td>4811</td>\n",
       "    </tr>\n",
       "    <tr>\n",
       "      <th>86</th>\n",
       "      <td>3793</td>\n",
       "      <td>0.329686</td>\n",
       "      <td>X-Men (2000)</td>\n",
       "      <td>3.556436</td>\n",
       "      <td>3535</td>\n",
       "    </tr>\n",
       "    <tr>\n",
       "      <th>451</th>\n",
       "      <td>4896</td>\n",
       "      <td>0.319180</td>\n",
       "      <td>Harry Potter and the Sorcerer's Stone (a.k.a. ...</td>\n",
       "      <td>3.678509</td>\n",
       "      <td>2843</td>\n",
       "    </tr>\n",
       "    <tr>\n",
       "      <th>68</th>\n",
       "      <td>3624</td>\n",
       "      <td>0.307471</td>\n",
       "      <td>Shanghai Noon (2000)</td>\n",
       "      <td>3.297443</td>\n",
       "      <td>1017</td>\n",
       "    </tr>\n",
       "    <tr>\n",
       "      <th>1774</th>\n",
       "      <td>31658</td>\n",
       "      <td>0.303898</td>\n",
       "      <td>Howl's Moving Castle (Hauru no ugoku shiro) (2...</td>\n",
       "      <td>4.064417</td>\n",
       "      <td>1141</td>\n",
       "    </tr>\n",
       "    <tr>\n",
       "      <th>591</th>\n",
       "      <td>5349</td>\n",
       "      <td>0.302174</td>\n",
       "      <td>Spider-Man (2002)</td>\n",
       "      <td>3.457931</td>\n",
       "      <td>3209</td>\n",
       "    </tr>\n",
       "    <tr>\n",
       "      <th>768</th>\n",
       "      <td>5816</td>\n",
       "      <td>0.297661</td>\n",
       "      <td>Harry Potter and the Chamber of Secrets (2002)</td>\n",
       "      <td>3.657751</td>\n",
       "      <td>2374</td>\n",
       "    </tr>\n",
       "    <tr>\n",
       "      <th>294</th>\n",
       "      <td>4306</td>\n",
       "      <td>0.296144</td>\n",
       "      <td>Shrek (2001)</td>\n",
       "      <td>3.768787</td>\n",
       "      <td>4591</td>\n",
       "    </tr>\n",
       "    <tr>\n",
       "      <th>947</th>\n",
       "      <td>6365</td>\n",
       "      <td>0.289269</td>\n",
       "      <td>Matrix Reloaded, The (2003)</td>\n",
       "      <td>3.352115</td>\n",
       "      <td>2529</td>\n",
       "    </tr>\n",
       "    <tr>\n",
       "      <th>1377</th>\n",
       "      <td>8636</td>\n",
       "      <td>0.289119</td>\n",
       "      <td>Spider-Man 2 (2004)</td>\n",
       "      <td>3.468254</td>\n",
       "      <td>2268</td>\n",
       "    </tr>\n",
       "    <tr>\n",
       "      <th>935</th>\n",
       "      <td>6333</td>\n",
       "      <td>0.286127</td>\n",
       "      <td>X2: X-Men United (2003)</td>\n",
       "      <td>3.611370</td>\n",
       "      <td>2146</td>\n",
       "    </tr>\n",
       "    <tr>\n",
       "      <th>1160</th>\n",
       "      <td>7090</td>\n",
       "      <td>0.274978</td>\n",
       "      <td>Hero (Ying xiong) (2002)</td>\n",
       "      <td>3.934135</td>\n",
       "      <td>873</td>\n",
       "    </tr>\n",
       "    <tr>\n",
       "      <th>177</th>\n",
       "      <td>3996</td>\n",
       "      <td>0.272425</td>\n",
       "      <td>Crouching Tiger, Hidden Dragon (Wo hu cang lon...</td>\n",
       "      <td>3.845262</td>\n",
       "      <td>2976</td>\n",
       "    </tr>\n",
       "    <tr>\n",
       "      <th>1169</th>\n",
       "      <td>7143</td>\n",
       "      <td>0.270891</td>\n",
       "      <td>Last Samurai, The (2003)</td>\n",
       "      <td>3.666470</td>\n",
       "      <td>1691</td>\n",
       "    </tr>\n",
       "    <tr>\n",
       "      <th>958</th>\n",
       "      <td>6377</td>\n",
       "      <td>0.268611</td>\n",
       "      <td>Finding Nemo (2003)</td>\n",
       "      <td>3.862284</td>\n",
       "      <td>3765</td>\n",
       "    </tr>\n",
       "    <tr>\n",
       "      <th>598</th>\n",
       "      <td>5378</td>\n",
       "      <td>0.267679</td>\n",
       "      <td>Star Wars: Episode II - Attack of the Clones (...</td>\n",
       "      <td>3.063167</td>\n",
       "      <td>2248</td>\n",
       "    </tr>\n",
       "  </tbody>\n",
       "</table>\n",
       "</div>"
      ],
      "text/plain": [
       "      movie_id  corr_with_pivot  \\\n",
       "807       5952         0.892103   \n",
       "1177      7153         0.892073   \n",
       "986       6539         0.377599   \n",
       "1339      8368         0.340934   \n",
       "55        3578         0.337667   \n",
       "86        3793         0.329686   \n",
       "451       4896         0.319180   \n",
       "68        3624         0.307471   \n",
       "1774     31658         0.303898   \n",
       "591       5349         0.302174   \n",
       "768       5816         0.297661   \n",
       "294       4306         0.296144   \n",
       "947       6365         0.289269   \n",
       "1377      8636         0.289119   \n",
       "935       6333         0.286127   \n",
       "1160      7090         0.274978   \n",
       "177       3996         0.272425   \n",
       "1169      7143         0.270891   \n",
       "958       6377         0.268611   \n",
       "598       5378         0.267679   \n",
       "\n",
       "                                                  title  ratings_mean  \\\n",
       "807       Lord of the Rings: The Two Towers, The (2002)      4.083869   \n",
       "1177  Lord of the Rings: The Return of the King, The...      4.083960   \n",
       "986   Pirates of the Caribbean: The Curse of the Bla...      3.779241   \n",
       "1339    Harry Potter and the Prisoner of Azkaban (2004)      3.809971   \n",
       "55                                     Gladiator (2000)      3.951050   \n",
       "86                                         X-Men (2000)      3.556436   \n",
       "451   Harry Potter and the Sorcerer's Stone (a.k.a. ...      3.678509   \n",
       "68                                 Shanghai Noon (2000)      3.297443   \n",
       "1774  Howl's Moving Castle (Hauru no ugoku shiro) (2...      4.064417   \n",
       "591                                   Spider-Man (2002)      3.457931   \n",
       "768      Harry Potter and the Chamber of Secrets (2002)      3.657751   \n",
       "294                                        Shrek (2001)      3.768787   \n",
       "947                         Matrix Reloaded, The (2003)      3.352115   \n",
       "1377                                Spider-Man 2 (2004)      3.468254   \n",
       "935                             X2: X-Men United (2003)      3.611370   \n",
       "1160                           Hero (Ying xiong) (2002)      3.934135   \n",
       "177   Crouching Tiger, Hidden Dragon (Wo hu cang lon...      3.845262   \n",
       "1169                           Last Samurai, The (2003)      3.666470   \n",
       "958                                 Finding Nemo (2003)      3.862284   \n",
       "598   Star Wars: Episode II - Attack of the Clones (...      3.063167   \n",
       "\n",
       "      ratings_count  \n",
       "807            5449  \n",
       "1177           5449  \n",
       "986            3950  \n",
       "1339           2397  \n",
       "55             4811  \n",
       "86             3535  \n",
       "451            2843  \n",
       "68             1017  \n",
       "1774           1141  \n",
       "591            3209  \n",
       "768            2374  \n",
       "294            4591  \n",
       "947            2529  \n",
       "1377           2268  \n",
       "935            2146  \n",
       "1160            873  \n",
       "177            2976  \n",
       "1169           1691  \n",
       "958            3765  \n",
       "598            2248  "
      ]
     },
     "metadata": {},
     "output_type": "display_data"
    }
   ],
   "source": [
    "corr_with_pivot = pd.merge(similarity_to_pivot,ratings_summary, how='inner',on='movie_id')\n",
    "#I used the function merge to merge join the two dataframes on movie_id\n",
    "\n",
    "corr_with_pivot =corr_with_pivot[corr_with_pivot['ratings_count']>=500]#To select from dataframe thise with more than 500 rates\n",
    "corr_with_pivot =corr_with_pivot.sort_values(by='corr_with_pivot',ascending=False)#sort according to ratings_count\n",
    "\n",
    "display(corr_with_pivot.head(20))#print top-20"
   ]
  },
  {
   "cell_type": "markdown",
   "metadata": {},
   "source": [
    "<font size=\"+1\" color=\"red\">Replace this cell with a brief commentary about the movies you see on this list. What happens if you set the condition on *ratings_count* to a much larger value? What happens if you set it to a much smaller value?</font>"
   ]
  },
  {
   "cell_type": "markdown",
   "metadata": {},
   "source": [
    "<font size=\"+1\" color=\"blue\">As expected, we can observe that the movies the most correlated to pivot_id (Lord of the rings: first movie) are the other two movies of the Lord of the rings. Following we can see other movies of science-fiction and action as Pirates of th Caribbean or Harry Potter. After analysing this top-20 movies, we conclude that are very correlated because they are all action and science-fiction movies, aspect tnat users that rated high 'Lord of the rings' will be more likely to rate high similar movies. If we set the ratings_count to a smaller value, for example 5, we get movies that are not correlated on the genres to pivot_id movie, and it is just not doing it's main function, where we want to select those movies that for sure (a big part of the users) have rated high. Instead, if we set the value to a much higher value = 3000, the argument of the selection of movies are more likely to Lord of the Rings, what we were searching. </font>"
   ]
  },
  {
   "cell_type": "markdown",
   "metadata": {},
   "source": [
    "# 2.4. Implement the item-based recommendations"
   ]
  },
  {
   "cell_type": "markdown",
   "metadata": {},
   "source": [
    "<font size=\"+1\" color=\"red\">Replace this cell with your code to compute all correlations between columns (movies) in the matrix user_movie. Store this in \"item_similarity\", and print the first 10 rows.</font>"
   ]
  },
  {
   "cell_type": "code",
   "execution_count": 19,
   "metadata": {},
   "outputs": [
    {
     "name": "stdout",
     "output_type": "stream",
     "text": [
      "movie_id     2769      3177      3190      3225   3228      3239      3273   \\\n",
      "movie_id                                                                      \n",
      "2769      1.000000  0.115068  0.033721 -0.232268    NaN -0.500000  0.197011   \n",
      "3177      0.115068  1.000000  0.303820  0.559533    NaN       NaN  0.331191   \n",
      "3190      0.033721  0.303820  1.000000  0.636361    NaN -0.014315  0.146042   \n",
      "3225     -0.232268  0.559533  0.636361  1.000000    NaN  0.578414  0.347716   \n",
      "3228           NaN       NaN       NaN       NaN    1.0       NaN       NaN   \n",
      "3239     -0.500000       NaN -0.014315  0.578414    NaN  1.000000  0.180846   \n",
      "3273      0.197011  0.331191  0.146042  0.347716    NaN  0.180846  1.000000   \n",
      "3275      0.199514  0.167918  0.394293  0.263671    NaN  1.000000  0.105735   \n",
      "3276      0.250873  1.000000 -0.290397 -0.250313    NaN       NaN  0.154371   \n",
      "3279           NaN       NaN       NaN       NaN    NaN       NaN       NaN   \n",
      "\n",
      "movie_id     3275      3276   3279   ...     33138     33145  33148  33150  \\\n",
      "movie_id                             ...                                     \n",
      "2769      0.199514  0.250873    NaN  ...  0.379980  0.878310    NaN    NaN   \n",
      "3177      0.167918  1.000000    NaN  ...  0.546119  0.735767   -1.0    NaN   \n",
      "3190      0.394293 -0.290397    NaN  ...  0.246183  0.632026    NaN    NaN   \n",
      "3225      0.263671 -0.250313    NaN  ... -0.300376  0.318377    NaN    NaN   \n",
      "3228           NaN       NaN    NaN  ...       NaN       NaN    NaN    NaN   \n",
      "3239      1.000000       NaN    NaN  ...       NaN       NaN    NaN    NaN   \n",
      "3273      0.105735  0.154371    NaN  ...  0.006774  0.409968    1.0    NaN   \n",
      "3275      1.000000  0.485071    NaN  ... -0.011426  0.279624    NaN    NaN   \n",
      "3276      0.485071  1.000000    NaN  ...       NaN  0.292770    NaN    NaN   \n",
      "3279           NaN       NaN    1.0  ...       NaN       NaN    NaN    NaN   \n",
      "\n",
      "movie_id  33152     33154         33158     33162     33164     33166  \n",
      "movie_id                                                               \n",
      "2769        NaN  0.248126  1.806095e-01 -0.085570 -0.408248  0.105671  \n",
      "3177        NaN -0.221382  3.174747e-01  0.014735  0.661989  0.185654  \n",
      "3190        NaN  0.378181  1.709261e-01  0.022444 -0.073360 -0.054114  \n",
      "3225        NaN  0.480173  7.503063e-01  0.536828  0.753141  0.098748  \n",
      "3228        NaN       NaN           NaN       NaN       NaN       NaN  \n",
      "3239        NaN  1.000000           NaN  1.000000  0.636285  0.888200  \n",
      "3273        NaN  0.088405  7.516779e-02  0.143492  0.466705  0.084202  \n",
      "3275        NaN  0.075827  2.994603e-01  0.187713  0.285584  0.225317  \n",
      "3276        NaN  0.000000 -6.885311e-17 -0.455530  0.500000 -0.138013  \n",
      "3279        NaN       NaN           NaN       NaN       NaN       NaN  \n",
      "\n",
      "[10 rows x 2049 columns]\n"
     ]
    }
   ],
   "source": [
    "item_similarity = user_movie.corr(method='pearson')\n",
    " \n",
    "# Print the first 10 rows of the resulting matrix\n",
    "print(item_similarity.head(10))"
   ]
  },
  {
   "cell_type": "markdown",
   "metadata": {},
   "source": [
    "<font size=\"+1\" color=\"red\">Replace this cell with your code to compute all correlations between columns (movies) in the matrix user_movie, but considering only movies having at least 100 ratings in common. Store this in \"item_similarity_min_ratings\"</font>"
   ]
  },
  {
   "cell_type": "code",
   "execution_count": 20,
   "metadata": {},
   "outputs": [
    {
     "name": "stdout",
     "output_type": "stream",
     "text": [
      "movie_id  2769   3177   3190   3225   3228   3239   3273   3275   3276   \\\n",
      "movie_id                                                                  \n",
      "2769        1.0    NaN    NaN    NaN    NaN    NaN    NaN    NaN    NaN   \n",
      "3177        NaN    1.0    NaN    NaN    NaN    NaN    NaN    NaN    NaN   \n",
      "3190        NaN    NaN    1.0    NaN    NaN    NaN    NaN    NaN    NaN   \n",
      "3225        NaN    NaN    NaN    1.0    NaN    NaN    NaN    NaN    NaN   \n",
      "3228        NaN    NaN    NaN    NaN    NaN    NaN    NaN    NaN    NaN   \n",
      "\n",
      "movie_id  3279   ...  33138  33145  33148  33150  33152  33154  33158  33162  \\\n",
      "movie_id         ...                                                           \n",
      "2769        NaN  ...    NaN    NaN    NaN    NaN    NaN    NaN    NaN    NaN   \n",
      "3177        NaN  ...    NaN    NaN    NaN    NaN    NaN    NaN    NaN    NaN   \n",
      "3190        NaN  ...    NaN    NaN    NaN    NaN    NaN    NaN    NaN    NaN   \n",
      "3225        NaN  ...    NaN    NaN    NaN    NaN    NaN    NaN    NaN    NaN   \n",
      "3228        NaN  ...    NaN    NaN    NaN    NaN    NaN    NaN    NaN    NaN   \n",
      "\n",
      "movie_id  33164  33166  \n",
      "movie_id                \n",
      "2769        NaN    NaN  \n",
      "3177        NaN    NaN  \n",
      "3190        NaN    NaN  \n",
      "3225        NaN    NaN  \n",
      "3228        NaN    NaN  \n",
      "\n",
      "[5 rows x 2049 columns]\n"
     ]
    }
   ],
   "source": [
    "item_similarity_min_ratings = user_movie.corr(method='pearson', min_periods=100)\n",
    "\n",
    "# Print the first 5 rows of the resulting matrix\n",
    "print(item_similarity_min_ratings.head(5))"
   ]
  },
  {
   "cell_type": "markdown",
   "metadata": {},
   "source": [
    "<font size=\"+1\" color=\"red\">Replace this cell with your code to find the user ids of two example users: user_id_super (the who liked the three superhero movies), and user_id_drama (the one who liked the three dramas)</font>"
   ]
  },
  {
   "cell_type": "code",
   "execution_count": 21,
   "metadata": {
    "scrolled": true
   },
   "outputs": [
    {
     "name": "stdout",
     "output_type": "stream",
     "text": [
      "User id's super: 5144 \n",
      "\n",
      "User id's drama: 34336\n"
     ]
    }
   ],
   "source": [
    "user_id_super=user_movie[(user_movie[5349]>=4.5)&(user_movie[3793]>=4.5)&(user_movie[6534]>=4.5)].index[0]\n",
    "\n",
    "user_id_drama=user_movie[(user_movie[6870]>=4.5)&(user_movie[5995]>=4.5)&(user_movie[3555]>=4.5)].index[0]\n",
    "\n",
    "print(\"User id's super:\", user_id_super,'\\n')\n",
    "print(\"User id's drama:\", user_id_drama)"
   ]
  },
  {
   "cell_type": "code",
   "execution_count": 22,
   "metadata": {},
   "outputs": [],
   "source": [
    "# Leave this code as-is\n",
    "# Gets a list of watched movies for a user_id\n",
    "def get_watched_movies(user_id, user_movie):\n",
    "    return list(user_movie.loc[user_id].dropna().sort_values( ascending=False).index)\n",
    "\n",
    "# Gets the rating a user_id has given to a movie_id\n",
    "def get_rating(user_id, movie_id, user_movie):\n",
    "    return user_movie[movie_id][user_id]\n",
    "\n",
    "# Print watched movies\n",
    "def print_watched_movies(user_id, user_movie, movies):\n",
    "    for movie_id in get_watched_movies(user_id, user_movie):\n",
    "        print(\"%d %.1f %s \" %\n",
    "          (movie_id, get_rating(user_id, movie_id, user_movie), get_title(movie_id, movies)))\n"
   ]
  },
  {
   "cell_type": "code",
   "execution_count": 23,
   "metadata": {},
   "outputs": [
    {
     "name": "stdout",
     "output_type": "stream",
     "text": [
      "33166 5.0 Crash (2004) \n",
      "7360 5.0 Dawn of the Dead (2004) \n",
      "8622 5.0 Fahrenheit 9/11 (2004) \n",
      "4643 5.0 Planet of the Apes (2001) \n",
      "3994 5.0 Unbreakable (2000) \n",
      "4878 5.0 Donnie Darko (2001) \n",
      "6377 5.0 Finding Nemo (2003) \n",
      "8327 5.0 Dolls (2002) \n",
      "7572 5.0 Wit (2001) \n",
      "6380 5.0 Capturing the Friedmans (2003) \n",
      "7371 5.0 Dogville (2003) \n",
      "7361 5.0 Eternal Sunshine of the Spotless Mind (2004) \n",
      "4226 5.0 Memento (2000) \n",
      "8638 5.0 Before Sunset (2004) \n",
      "7153 5.0 Lord of the Rings: The Return of the King, The (2003) \n",
      "6534 5.0 Hulk (2003) \n",
      "6620 5.0 American Splendor (2003) \n",
      "4308 5.0 Moulin Rouge (2001) \n",
      "7090 5.0 Hero (Ying xiong) (2002) \n",
      "5669 5.0 Bowling for Columbine (2002) \n",
      "4370 5.0 A.I. Artificial Intelligence (2001) \n",
      "6711 5.0 Lost in Translation (2003) \n",
      "6874 5.0 Kill Bill: Vol. 1 (2003) \n",
      "6870 5.0 Mystic River (2003) \n",
      "4993 5.0 Lord of the Rings: The Fellowship of the Ring, The (2001) \n",
      "4642 5.0 Hedwig and the Angry Inch (2000) \n",
      "3949 5.0 Requiem for a Dream (2000) \n",
      "5679 5.0 Ring, The (2002) \n",
      "5902 5.0 Adaptation (2002) \n",
      "8949 5.0 Sideways (2004) \n",
      "27846 5.0 Corporation, The (2003) \n",
      "3798 5.0 What Lies Beneath (2000) \n",
      "5952 5.0 Lord of the Rings: The Two Towers, The (2002) \n",
      "5878 5.0 Talk to Her (Hable con Ella) (2002) \n",
      "31658 5.0 Howl's Moving Castle (Hauru no ugoku shiro) (2004) \n",
      "33154 5.0 Enron: The Smartest Guys in the Room (2005) \n",
      "3897 5.0 Almost Famous (2000) \n",
      "5349 5.0 Spider-Man (2002) \n",
      "5617 4.5 Secretary (2002) \n",
      "5502 4.5 Signs (2002) \n",
      "6679 4.5 Revolution OS (2001) \n",
      "6863 4.5 School of Rock (2003) \n",
      "5388 4.5 Insomnia (2002) \n",
      "5956 4.5 Gangs of New York (2002) \n",
      "6502 4.5 28 Days Later (2002) \n",
      "6323 4.5 Identity (2003) \n",
      "5989 4.5 Catch Me If You Can (2002) \n",
      "5991 4.5 Chicago (2002) \n",
      "4873 4.5 Waking Life (2001) \n",
      "5066 4.5 Walk to Remember, A (2002) \n",
      "5992 4.5 Hours, The (2002) \n",
      "5995 4.5 Pianist, The (2002) \n",
      "4886 4.5 Monsters, Inc. (2001) \n",
      "4903 4.5 In the Bedroom (2001) \n",
      "4973 4.5 Amelie (Fabuleux destin d'AmÃ©lie Poulain, Le) (2001) \n",
      "6214 4.5 Irreversible (IrrÃ©versible) (2002) \n",
      "6331 4.5 Spellbound (2002) \n",
      "6953 4.5 21 Grams (2003) \n",
      "4641 4.5 Ghost World (2001) \n",
      "4011 4.5 Snatch (2000) \n",
      "3481 4.5 High Fidelity (2000) \n",
      "30803 4.5 3-Iron (Bin-jip) (2004) \n",
      "3793 4.5 X-Men (2000) \n",
      "8938 4.5 Tarnation (2003) \n",
      "8783 4.5 Village, The (2004) \n",
      "8636 4.5 Spider-Man 2 (2004) \n",
      "8529 4.5 Terminal, The (2004) \n",
      "3996 4.5 Crouching Tiger, Hidden Dragon (Wo hu cang long) (2000) \n",
      "5670 4.5 Comedian (2002) \n",
      "8376 4.5 Napoleon Dynamite (2004) \n",
      "4306 4.5 Shrek (2001) \n",
      "4034 4.5 Traffic (2000) \n",
      "7139 4.5 In America (2002) \n",
      "7147 4.5 Big Fish (2003) \n",
      "8970 4.0 Finding Neverland (2004) \n",
      "30812 4.0 Aviator, The (2004) \n",
      "5673 4.0 Punch-Drunk Love (2002) \n",
      "3285 4.0 Beach, The (2000) \n",
      "5812 4.0 Far from Heaven (2002) \n",
      "30810 4.0 Life Aquatic with Steve Zissou, The (2004) \n",
      "5881 4.0 Solaris (2002) \n",
      "27482 4.0 Cube 2: Hypercube (2002) \n",
      "5903 4.0 Equilibrium (2002) \n",
      "27441 4.0 Blood: The Last Vampire (2000) \n",
      "8981 4.0 Closer (2004) \n",
      "8961 4.0 Incredibles, The (2004) \n",
      "5954 4.0 25th Hour (2002) \n",
      "8464 4.0 Super Size Me (2004) \n",
      "8957 4.0 Saw (2004) \n",
      "6591 4.0 Magdalene Sisters, The (2002) \n",
      "8917 4.0 Team America: World Police (2004) \n",
      "6934 4.0 Matrix Revolutions, The (2003) \n",
      "8784 4.0 Garden State (2004) \n",
      "6291 4.0 Lilya 4-Ever (Lilja 4-ever) (2002) \n",
      "7160 4.0 Monster (2003) \n",
      "7438 4.0 Kill Bill: Vol. 2 (2004) \n",
      "6333 4.0 X2: X-Men United (2003) \n",
      "8360 4.0 Shrek 2 (2004) \n",
      "6365 4.0 Matrix Reloaded, The (2003) \n",
      "8874 4.0 Shaun of the Dead (2004) \n",
      "5791 4.0 Frida (2002) \n",
      "4975 4.0 Vanilla Sky (2001) \n",
      "5446 4.0 Rabbit-Proof Fence (2002) \n",
      "5618 4.0 Spirited Away (Sen to Chihiro no kamikakushi) (2001) \n",
      "4235 4.0 Amores Perros (Love's a Bitch) (2000) \n",
      "4239 4.0 Blow (2001) \n",
      "5218 4.0 Ice Age (2002) \n",
      "3967 4.0 Billy Elliot (2000) \n",
      "3910 4.0 Dancer in the Dark (2000) \n",
      "4995 4.0 Beautiful Mind, A (2001) \n",
      "4148 4.0 Hannibal (2001) \n",
      "4963 4.0 Ocean's Eleven (2001) \n",
      "4874 4.0 K-PAX (2001) \n",
      "5528 4.0 One Hour Photo (2002) \n",
      "3510 4.0 Frequency (2000) \n",
      "5577 4.0 Igby Goes Down (2002) \n",
      "4161 3.5 Mexican, The (2001) \n",
      "4446 3.5 Final Fantasy: The Spirits Within (2001) \n",
      "4638 3.5 Jurassic Park III (2001) \n",
      "6770 3.5 My Life Without Me (2003) \n",
      "7022 3.5 Battle Royale (Batoru rowaiaru) (2000) \n",
      "6709 3.5 Once Upon a Time in Mexico (2003) \n",
      "5630 3.5 Red Dragon (2002) \n",
      "4014 3.5 Chocolat (2000) \n",
      "4023 3.5 Family Man, The (2000) \n",
      "4022 3.5 Cast Away (2000) \n",
      "4734 3.5 Jay and Silent Bob Strike Back (2001) \n",
      "8530 3.5 Dear Frankie (2004) \n",
      "3755 3.5 Perfect Storm, The (2000) \n",
      "8958 3.5 Ray (2004) \n",
      "3555 3.5 U-571 (2000) \n",
      "27899 3.5 What the #$*! Do We Know!? (a.k.a. What the Bleep Do We Know!?) (2004) \n",
      "30707 3.5 Million Dollar Baby (2004) \n",
      "30793 3.5 Charlie and the Chocolate Factory (2005) \n",
      "3535 3.5 American Psycho (2000) \n",
      "3408 3.5 Erin Brockovich (2000) \n",
      "4720 3.5 Others, The (2001) \n",
      "3275 3.5 Boondock Saints, The (2000) \n",
      "5014 3.5 I Am Sam (2001) \n",
      "5464 3.5 Road to Perdition (2002) \n",
      "4823 3.5 Serendipity (2001) \n",
      "5015 3.5 Monster's Ball (2001) \n",
      "5785 3.5 Jackass: The Movie (2002) \n",
      "5377 3.5 About a Boy (2002) \n",
      "4979 3.5 Royal Tenenbaums, The (2001) \n",
      "5445 3.5 Minority Report (2002) \n",
      "5505 3.5 Good Girl, The (2002) \n",
      "5945 3.5 About Schmidt (2002) \n",
      "7293 3.0 50 First Dates (2004) \n",
      "7347 3.0 Secret Window (2004) \n",
      "7373 3.0 Hellboy (2004) \n",
      "6059 3.0 Recruit, The (2003) \n",
      "4146 3.0 Million Dollar Hotel, The (2001) \n",
      "7254 3.0 The Butterfly Effect (2004) \n",
      "6016 3.0 City of God (Cidade de Deus) (2002) \n",
      "5266 3.0 Panic Room (2002) \n",
      "7260 3.0 Latter Days (2003) \n",
      "7162 3.0 Cold Mountain (2003) \n",
      "3578 3.0 Gladiator (2000) \n",
      "4310 3.0 Pearl Harbor (2001) \n",
      "31685 3.0 Hitch (2005) \n",
      "3301 3.0 Whole Nine Yards, The (2000) \n",
      "6373 3.0 Bruce Almighty (2003) \n",
      "5219 3.0 Resident Evil (2002) \n",
      "6942 3.0 Love Actually (2003) \n",
      "6287 3.0 Anger Management (2003) \n",
      "4238 3.0 Along Came a Spider (2001) \n",
      "8644 3.0 I, Robot (2004) \n",
      "27904 2.5 Scanner Darkly, A (2006) \n",
      "5507 2.5 xXx (2002) \n",
      "8947 2.5 Grudge, The (2004) \n",
      "3826 2.5 Hollow Man (2000) \n",
      "3751 2.5 Chicken Run (2000) \n",
      "3863 2.5 Cell, The (2000) \n",
      "27808 2.5 Spanglish (2004) \n",
      "4776 2.5 Training Day (2001) \n",
      "5010 2.5 Black Hawk Down (2001) \n",
      "4865 2.5 From Hell (2001) \n",
      "7151 2.5 Girl with a Pearl Earring (2003) \n",
      "3999 2.5 Vertical Limit (2000) \n",
      "6281 2.5 Phone Booth (2002) \n",
      "5064 2.5 The Count of Monte Cristo (2002) \n",
      "7173 2.5 Along Came Polly (2004) \n",
      "7444 2.5 13 Going on 30 (2004) \n",
      "4246 2.0 Bridget Jones's Diary (2001) \n",
      "3717 2.0 Gone in 60 Seconds (2000) \n",
      "3977 2.0 Charlie's Angels (2000) \n",
      "3744 2.0 Shaft (2000) \n",
      "31696 2.0 Constantine (2005) \n",
      "3752 2.0 Me, Myself & Irene (2000) \n",
      "4027 2.0 O Brother, Where Art Thou? (2000) \n",
      "4369 2.0 Fast and the Furious, The (2001) \n",
      "3825 2.0 Coyote Ugly (2000) \n",
      "4701 2.0 Rush Hour 2 (2001) \n",
      "4018 2.0 What Women Want (2000) \n",
      "8865 2.0 Sky Captain and the World of Tomorrow (2004) \n",
      "3300 2.0 Pitch Black (2000) \n",
      "3968 2.0 Bedazzled (2000) \n",
      "3785 2.0 Scary Movie (2000) \n",
      "5833 1.5 Dog Soldiers (2002) \n",
      "5574 1.5 Transporter, The (2002) \n",
      "4816 1.5 Zoolander (2001) \n",
      "6157 1.5 Daredevil (2003) \n",
      "7454 1.5 Van Helsing (2004) \n",
      "3948 1.5 Meet the Parents (2000) \n",
      "30825 1.5 Meet the Fockers (2004) \n",
      "4718 1.0 American Pie 2 (2001) \n",
      "3991 1.0 102 Dalmatians (2000) \n",
      "4447 1.0 Legally Blonde (2001) \n",
      "7318 0.5 Passion of the Christ, The (2004) \n",
      "5254 0.5 Blade II (2002) \n",
      "8985 0.5 Blade: Trinity (2004) \n"
     ]
    }
   ],
   "source": [
    "# LEAVE AS-IS (TESTING CODE)\n",
    "\n",
    "print_watched_movies(user_id_super, user_movie, movies)"
   ]
  },
  {
   "cell_type": "code",
   "execution_count": 24,
   "metadata": {},
   "outputs": [
    {
     "name": "stdout",
     "output_type": "stream",
     "text": [
      "3967 5.0 Billy Elliot (2000) \n",
      "4014 5.0 Chocolat (2000) \n",
      "4034 5.0 Traffic (2000) \n",
      "5995 5.0 Pianist, The (2002) \n",
      "7147 5.0 Big Fish (2003) \n",
      "4995 5.0 Beautiful Mind, A (2001) \n",
      "3555 5.0 U-571 (2000) \n",
      "6870 5.0 Mystic River (2003) \n",
      "5991 5.0 Chicago (2002) \n",
      "8464 5.0 Super Size Me (2004) \n",
      "5669 5.0 Bowling for Columbine (2002) \n",
      "8622 5.0 Fahrenheit 9/11 (2004) \n",
      "30707 5.0 Million Dollar Baby (2004) \n",
      "6953 4.5 21 Grams (2003) \n",
      "5015 4.5 Monster's Ball (2001) \n",
      "5464 4.5 Road to Perdition (2002) \n",
      "3510 4.5 Frequency (2000) \n",
      "5989 4.5 Catch Me If You Can (2002) \n",
      "4022 4.0 Cast Away (2000) \n",
      "5010 4.0 Black Hawk Down (2001) \n",
      "5299 4.0 My Big Fat Greek Wedding (2002) \n",
      "3897 4.0 Almost Famous (2000) \n",
      "3755 4.0 Perfect Storm, The (2000) \n",
      "4308 4.0 Moulin Rouge (2001) \n",
      "4447 3.5 Legally Blonde (2001) \n",
      "4246 3.5 Bridget Jones's Diary (2001) \n",
      "4975 3.5 Vanilla Sky (2001) \n",
      "4019 3.5 Finding Forrester (2000) \n",
      "5377 3.5 About a Boy (2002) \n",
      "3948 3.5 Meet the Parents (2000) \n",
      "5956 3.0 Gangs of New York (2002) \n",
      "6281 3.0 Phone Booth (2002) \n",
      "7143 3.0 Last Samurai, The (2003) \n",
      "7458 3.0 Troy (2004) \n",
      "5349 3.0 Spider-Man (2002) \n",
      "5902 3.0 Adaptation (2002) \n",
      "5418 3.0 Bourne Identity, The (2002) \n",
      "4993 3.0 Lord of the Rings: The Fellowship of the Ring, The (2001) \n",
      "4310 3.0 Pearl Harbor (2001) \n",
      "4025 2.5 Miss Congeniality (2000) \n",
      "3578 2.5 Gladiator (2000) \n",
      "8644 2.5 I, Robot (2004) \n",
      "4018 2.5 What Women Want (2000) \n",
      "5679 2.5 Ring, The (2002) \n",
      "30825 2.5 Meet the Fockers (2004) \n",
      "4027 2.5 O Brother, Where Art Thou? (2000) \n",
      "4776 2.5 Training Day (2001) \n",
      "4963 2.5 Ocean's Eleven (2001) \n",
      "7438 2.0 Kill Bill: Vol. 2 (2004) \n",
      "3916 2.0 Remember the Titans (2000) \n",
      "8665 2.0 Bourne Supremacy, The (2004) \n",
      "30793 2.0 Charlie and the Chocolate Factory (2005) \n",
      "7153 2.0 Lord of the Rings: The Return of the King, The (2003) \n",
      "6934 1.5 Matrix Revolutions, The (2003) \n",
      "3752 1.0 Me, Myself & Irene (2000) \n",
      "8798 1.0 Collateral (2004) \n"
     ]
    }
   ],
   "source": [
    "# LEAVE AS-IS (TESTING CODE)\n",
    "\n",
    "print_watched_movies(user_id_drama, user_movie, movies)"
   ]
  },
  {
   "cell_type": "markdown",
   "metadata": {},
   "source": [
    "<font size=\"+1\" color=\"red\">Replace this cell with your code for \"get_movies_relevance\"</font>"
   ]
  },
  {
   "cell_type": "code",
   "execution_count": 25,
   "metadata": {},
   "outputs": [],
   "source": [
    "def get_movies_relevance(user_id, user_movie, item_similarity_matrix):\n",
    "    \n",
    "    # Create an empty series\n",
    "    movies_relevance = pd.Series()\n",
    "    \n",
    "    # Iterate through the movies the user has watched\n",
    "    for watched_movie in user_movie:\n",
    "        \n",
    "        # Obtain the rating given\n",
    "        rating_given = get_rating(user_id,watched_movie,user_movie)\n",
    "        \n",
    "        # Obtain the vector containing the similarities of watched_movie\n",
    "        # with all other movies in item_similarity_matrix\n",
    "        similarities = item_similarity_matrix[watched_movie]\n",
    "        \n",
    "        # Multiply this vector by the given rating\n",
    "        weighted_similarities = rating_given*similarities\n",
    "        \n",
    "        # Append these terms to movies_relevance\n",
    "        movies_relevance = pd.concat([movies_relevance, weighted_similarities])\n",
    "    \n",
    "    # Compute the sum for each movie\n",
    "    movies_relevance = movies_relevance.groupby(movies_relevance.index).sum()\n",
    "    \n",
    "    # Convert to a dataframe\n",
    "    movies_relevance_df = pd.DataFrame(movies_relevance, columns=['relevance'])\n",
    "    movies_relevance_df['movie_id'] = movies_relevance_df.index\n",
    "    \n",
    "    return movies_relevance_df"
   ]
  },
  {
   "cell_type": "markdown",
   "metadata": {},
   "source": [
    "<font size=\"+1\" color=\"red\">Replace this cell with your code to obtain the 5 most relevant movies for the users user_id_super (who likes superhero movies) and user_id_drama (who likes dramas)</font>"
   ]
  },
  {
   "cell_type": "code",
   "execution_count": 32,
   "metadata": {},
   "outputs": [
    {
     "name": "stdout",
     "output_type": "stream",
     "text": [
      "RELEVANT MOVIES FOR USER_ID_SUPER\n",
      "\n",
      "       relevance  movie_id                                  title\n",
      "7443  448.106701      7443         This So-Called Disaster (2003)\n",
      "6688  433.983302      6688     Autumn Spring (BabÃ­ lÃ©to) (2001)\n",
      "8895  422.849117      8895                             AKA (2002)\n",
      "4173  419.304747      4173          When Brendan Met Trudy (2000)\n",
      "6375  415.161506      6375  Gigantic (A Tale of Two Johns) (2002)\n",
      "\n",
      "RELEVANT MOVIES FOR USER_ID_DRAMA\n",
      "\n",
      "        relevance  movie_id                           title\n",
      "7521   160.000000      7521                    Mercy (2000)\n",
      "4449   154.388241      4449               Adanggaman (2000)\n",
      "7443   146.447098      7443  This So-Called Disaster (2003)\n",
      "31636  135.966211     31636              Bunker, The (2001)\n",
      "27835  133.500000     27835          Agronomist, The (2003)\n"
     ]
    }
   ],
   "source": [
    "print(\"RELEVANT MOVIES FOR USER_ID_SUPER\\n\")\n",
    "\n",
    "relevant_movies_superhero=get_movies_relevance(user_id_super,user_movie,item_similarity)#use the function above\n",
    "relevant_movies_superhero=relevant_movies_superhero.sort_values(by='relevance',ascending=False)#sort the values by relevance\n",
    "relevant_movies_superhero['title'] = relevant_movies_superhero['movie_id'].apply(lambda x: get_title(x, movies))#use the function get_title to print the names of the movies\n",
    "#otherwise we can't do the following exercice\n",
    "\n",
    "print(relevant_movies_superhero.head())\n",
    "\n",
    "\n",
    "\n",
    "print(\"\\nRELEVANT MOVIES FOR USER_ID_DRAMA\\n\")\n",
    "relevant_movies_drama=get_movies_relevance(user_id_drama,user_movie,item_similarity)#use the function above\n",
    "relevant_movies_drama=relevant_movies_drama.sort_values(by='relevance',ascending=False)#sort the values by relevance\n",
    "relevant_movies_drama['title'] = relevant_movies_drama['movie_id'].apply(lambda x: get_title(x, movies))\n",
    "\n",
    "print(relevant_movies_drama.head())"
   ]
  },
  {
   "cell_type": "markdown",
   "metadata": {},
   "source": [
    "<font size=\"+1\" color=\"red\">Replace this cell with a brief commentary on the movies you see on these lists. How many of them look relevant for the intended users? Feel free to use IMDB or Wikipedia to get info on these movies.</font>\n",
    "\n",
    "<font size=\"-1\" color=\"gray\">All those trivial facts you learned about 1980s and 1990s pop culture were supposed to be useful one day; that day has arrived :-)</font>"
   ]
  },
  {
   "cell_type": "markdown",
   "metadata": {},
   "source": [
    "<font size=\"+1\" color=\"blue\">On the first matrix, the one for the user taht is a fan of Superheros, I can say that the movies that are the more relevant to him/her are AKA (action and policiac movie), also \"When Brendan et Trudy\" because its more or less a romantic movie and it also includes a bit of a policiac action due to the protagonist falls in love with a thief.\n",
    "The other movies are not very relevant because they are  kind of a documental movies that might not be of interest to the super_user</font>\n",
    "\n",
    "<font size=\"+1\" color=\"blue\">Concerning the second user, fanatic of drama, I'd say that he/she might like Mercy because a movie with a lot of action that sometimes it can also carry something of drama, even if it is not a typical drama movie as Adanggaman, which the user will also like. Finally the user might also enjoy watching The Bunker as it's about soldiers that get locked in a bunker and I imagine there can be some very dramatic scenes, therefore it might be relevant for the user. The other movies are not relevant for him/her. </font>"
   ]
  },
  {
   "cell_type": "markdown",
   "metadata": {},
   "source": [
    "<font size=\"+1\" color=\"red\">Replace this cell with your code implementing \"get_recommended_movies\"</font>"
   ]
  },
  {
   "cell_type": "code",
   "execution_count": 39,
   "metadata": {},
   "outputs": [],
   "source": [
    "def get_recommended_movies(user_id,user_movie, item_similarity,movies):\n",
    "    \n",
    "    relevant_movies=get_movies_relevance(user_id,user_movie,item_similarity)#use the function above\n",
    "    relevant_movies.set_index('movie_id', inplace=True)\n",
    "    \n",
    "    list_watched_movies = get_watched_movies(user_id, user_movie)\n",
    "\n",
    "    relevant_movies = relevant_movies.drop(index=list_watched_movies, errors='ignore')#delete movies that the user has watched\n",
    "    \n",
    "    relevant_movies['title'] = relevant_movies.index.map(lambda x: get_title(x, movies))\n",
    "    relevant_movies_sorted=relevant_movies.sort_values(by='relevance', ascending=False)\n",
    "    # Step 6: Return the final recommended movies\n",
    "    return relevant_movies_sorted\n",
    "    "
   ]
  },
  {
   "cell_type": "markdown",
   "metadata": {},
   "source": [
    "<font size=\"+1\" color=\"red\">Replace this cell with your code to obtain the 10 most recommended movies for the users user_id_super and user_id_drama</font>"
   ]
  },
  {
   "cell_type": "code",
   "execution_count": 40,
   "metadata": {},
   "outputs": [
    {
     "name": "stdout",
     "output_type": "stream",
     "text": [
      "RECOMMENDED MOVIES FOR user_id_super\n",
      "\n",
      "           relevance                                              title\n",
      "movie_id                                                               \n",
      "7443      448.106701                     This So-Called Disaster (2003)\n",
      "6688      433.983302                 Autumn Spring (BabÃ­ lÃ©to) (2001)\n",
      "8895      422.849117                                         AKA (2002)\n",
      "4173      419.304747                      When Brendan Met Trudy (2000)\n",
      "6375      415.161506              Gigantic (A Tale of Two Johns) (2002)\n",
      "6336      408.500000     Marooned in Iraq (Gomgashtei dar Aragh) (2002)\n",
      "4150      408.500000                             Signs & Wonders (2001)\n",
      "5806      394.993866                  Blackboards (TakhtÃ© Siah) (2000)\n",
      "5575      393.628939  Alias Betty (Betty Fisher et autres histoires)...\n",
      "5687      391.691250  Take Care of My Cat (Goyangileul butaghae) (2001)\n",
      "\n",
      "RECOMMENDED MOVIES FOR user_id_drama\n",
      "\n",
      "           relevance                                            title\n",
      "movie_id                                                             \n",
      "7521      160.000000                                     Mercy (2000)\n",
      "4449      154.388241                                Adanggaman (2000)\n",
      "7443      146.447098                   This So-Called Disaster (2003)\n",
      "31636     135.966211                               Bunker, The (2001)\n",
      "27835     133.500000                           Agronomist, The (2003)\n",
      "5806      132.174524                Blackboards (TakhtÃ© Siah) (2000)\n",
      "6688      131.791755               Autumn Spring (BabÃ­ lÃ©to) (2001)\n",
      "4150      130.500000                           Signs & Wonders (2001)\n",
      "6336      130.500000   Marooned in Iraq (Gomgashtei dar Aragh) (2002)\n",
      "6544      130.122867  Housekeeper, The (femme de mÃ©nage, Une) (2002)\n"
     ]
    }
   ],
   "source": [
    "print(\"RECOMMENDED MOVIES FOR user_id_super\\n\")\n",
    "rec_mov_super=get_recommended_movies(user_id_super,user_movie, item_similarity,movies)\n",
    "print(rec_mov_super.head(10))\n",
    "\n",
    "print(\"\\nRECOMMENDED MOVIES FOR user_id_drama\\n\")\n",
    "rec_mov_drama=get_recommended_movies(user_id_drama, user_movie ,item_similarity,movies)\n",
    "print(rec_mov_drama.head(10))"
   ]
  },
  {
   "cell_type": "markdown",
   "metadata": {},
   "source": [
    "<font size=\"+1\" color=\"red\">Replace this cell with a brief commentary on these recommendations. Do you think they are relevant? Why or why not? After removing the movies the user has already watched, are the relevance scores of the remaining items comparable to the previous lists that contained all relevant movies?</font>"
   ]
  },
  {
   "cell_type": "markdown",
   "metadata": {},
   "source": [
    "<font size=\"+1\" color=\"blue\">After analysing both lists, I can observe that the order of relevance and recommendations movies are the same. This could be due to that the movies that are more relevant means that are ones that should be recommended the most. However, I don't think that this last list is very relevant due to that we've seen that the movies that should be recommended should agree on the interests of the user regarding genres and plot.The relevance scores are not comparable as the higher scores usually are the ones that the user has seen, therefore those are the ones that we've dropped.</font>"
   ]
  },
  {
   "cell_type": "markdown",
   "metadata": {},
   "source": [
    "<font size=\"+2\" color=\"#003300\">I hereby declare that, except for the code provided by the course instructors, all of my code, report, and figures were produced by myself.</font>"
   ]
  }
 ],
 "metadata": {
  "kernelspec": {
   "display_name": "Python 3 (ipykernel)",
   "language": "python",
   "name": "python3"
  },
  "language_info": {
   "codemirror_mode": {
    "name": "ipython",
    "version": 3
   },
   "file_extension": ".py",
   "mimetype": "text/x-python",
   "name": "python",
   "nbconvert_exporter": "python",
   "pygments_lexer": "ipython3",
   "version": "3.11.5"
  }
 },
 "nbformat": 4,
 "nbformat_minor": 2
}
